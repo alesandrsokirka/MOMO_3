{
  "nbformat": 4,
  "nbformat_minor": 0,
  "metadata": {
    "kernelspec": {
      "display_name": "Python 3",
      "language": "python",
      "name": "python3"
    },
    "language_info": {
      "codemirror_mode": {
        "name": "ipython",
        "version": 3
      },
      "file_extension": ".py",
      "mimetype": "text/x-python",
      "name": "python",
      "nbconvert_exporter": "python",
      "pygments_lexer": "ipython3",
      "version": "3.7.4"
    },
    "toc": {
      "base_numbering": 1,
      "nav_menu": {},
      "number_sections": true,
      "sideBar": true,
      "skip_h1_title": false,
      "title_cell": "Table of Contents",
      "title_sidebar": "Contents",
      "toc_cell": false,
      "toc_position": {
        "height": "calc(100% - 180px)",
        "left": "10px",
        "top": "150px",
        "width": "165px"
      },
      "toc_section_display": true,
      "toc_window_display": true
    },
    "colab": {
      "provenance": [],
      "toc_visible": true
    }
  },
  "cells": [
    {
      "cell_type": "markdown",
      "metadata": {
        "id": "czKick3H1Aqp"
      },
      "source": [
        "# Import библиотек"
      ]
    },
    {
      "cell_type": "code",
      "metadata": {
        "id": "Eu6aerLw1Aqq"
      },
      "source": [
        "import pandas as pd # Библиотека Pandas для работы с табличными данными\n",
        "import numpy as np # библиотека Numpy для операций линейной алгебры и прочего\n",
        "import matplotlib.pyplot as plt # библиотека Matplotlib для визуализации\n",
        "import seaborn as sns # библиотека seaborn для визуализации\n",
        "import numpy as np # библиотека Numpy для операций линейной алгебры и прочего\n",
        "\n",
        "\n",
        "# предварительная обработка числовых признаков\n",
        "from sklearn.preprocessing import MinMaxScaler # Импортируем нормализацию от scikit-learn\n",
        "from sklearn.preprocessing import StandardScaler # Импортируем стандартизацию от scikit-learn\n",
        "from sklearn.preprocessing import PowerTransformer  # Степенное преобразование от scikit-learn\n",
        "# предварительная обработка категориальных признаков\n",
        "from sklearn.preprocessing import OneHotEncoder # Импортируем One-Hot Encoding от scikit-learn\n",
        "from sklearn.preprocessing import OrdinalEncoder # Импортируем порядковое кодирование от scikit-learn\n",
        "\n",
        "from sklearn.pipeline import Pipeline # Pipeline. Ни добавить, ни убавить\n",
        "\n",
        "from sklearn.compose import ColumnTransformer # т.н. преобразователь колонок\n",
        "\n",
        "from sklearn.base import BaseEstimator, TransformerMixin # для создания собственных преобразователей / трансформеров данных"
      ],
      "execution_count": null,
      "outputs": []
    },
    {
      "cell_type": "code",
      "source": [
        "import warnings\n",
        "warnings.filterwarnings('ignore')"
      ],
      "metadata": {
        "id": "kG_F8idxU__n"
      },
      "execution_count": null,
      "outputs": []
    },
    {
      "cell_type": "markdown",
      "source": [
        "# Загрузка данных"
      ],
      "metadata": {
        "id": "BWSBYJ2dZ8LJ"
      }
    },
    {
      "cell_type": "markdown",
      "source": [
        "Загружаем наши данные из файла по прямой ссылке на GitHub"
      ],
      "metadata": {
        "id": "Ea3-kYWG7fWJ"
      }
    },
    {
      "cell_type": "code",
      "source": [
        "DF = pd.read_csv('https://raw.githubusercontent.com/dayekb/mpti_ml/main/data/cars_moldova_clean.csv', delimiter = ',')\n",
        "DF"
      ],
      "metadata": {
        "colab": {
          "base_uri": "https://localhost:8080/",
          "height": 424
        },
        "id": "k10GNV_lFpP6",
        "outputId": "b95cff69-a17b-41c0-d414-6255d4a9db38"
      },
      "execution_count": null,
      "outputs": [
        {
          "output_type": "execute_result",
          "data": {
            "text/plain": [
              "             Make         Model  Year      Style  Distance  \\\n",
              "0          Toyota         Prius  2011  Hatchback  195000.0   \n",
              "1         Renault  Grand Scenic  2014  Universal  135000.0   \n",
              "2         Renault        Laguna  2012  Universal  110000.0   \n",
              "3            Opel         Astra  2006  Universal  200000.0   \n",
              "4        Mercedes          Vito  2000   Microvan  300000.0   \n",
              "...           ...           ...   ...        ...       ...   \n",
              "32480  Volkswagen        Passat  2016      Sedan   88000.0   \n",
              "32481  Land Rover    Freelander  2002  Crossover  225000.0   \n",
              "32482       Dacia     Logan Mcv  2015  Universal   89000.0   \n",
              "32483       Mazda             6  2006      Combi  370000.0   \n",
              "32484     Renault  Grand Scenic  2006    Minivan  300000.0   \n",
              "\n",
              "       Engine_capacity(cm3)     Fuel_type Transmission  Price(euro)  \n",
              "0                    1800.0        Hybrid    Automatic       7750.0  \n",
              "1                    1500.0        Diesel       Manual       8550.0  \n",
              "2                    1500.0        Diesel       Manual       6550.0  \n",
              "3                    1600.0  Metan/Propan       Manual       4100.0  \n",
              "4                    2200.0        Diesel       Manual       3490.0  \n",
              "...                     ...           ...          ...          ...  \n",
              "32480                1800.0        Petrol    Automatic      11500.0  \n",
              "32481                1800.0  Metan/Propan       Manual       4400.0  \n",
              "32482                1500.0        Diesel       Manual       7000.0  \n",
              "32483                2000.0        Diesel       Manual       4000.0  \n",
              "32484                1500.0        Diesel       Manual       4000.0  \n",
              "\n",
              "[32485 rows x 9 columns]"
            ],
            "text/html": [
              "\n",
              "  <div id=\"df-667c1c34-0e1b-4a6b-b275-449b0f69286a\" class=\"colab-df-container\">\n",
              "    <div>\n",
              "<style scoped>\n",
              "    .dataframe tbody tr th:only-of-type {\n",
              "        vertical-align: middle;\n",
              "    }\n",
              "\n",
              "    .dataframe tbody tr th {\n",
              "        vertical-align: top;\n",
              "    }\n",
              "\n",
              "    .dataframe thead th {\n",
              "        text-align: right;\n",
              "    }\n",
              "</style>\n",
              "<table border=\"1\" class=\"dataframe\">\n",
              "  <thead>\n",
              "    <tr style=\"text-align: right;\">\n",
              "      <th></th>\n",
              "      <th>Make</th>\n",
              "      <th>Model</th>\n",
              "      <th>Year</th>\n",
              "      <th>Style</th>\n",
              "      <th>Distance</th>\n",
              "      <th>Engine_capacity(cm3)</th>\n",
              "      <th>Fuel_type</th>\n",
              "      <th>Transmission</th>\n",
              "      <th>Price(euro)</th>\n",
              "    </tr>\n",
              "  </thead>\n",
              "  <tbody>\n",
              "    <tr>\n",
              "      <th>0</th>\n",
              "      <td>Toyota</td>\n",
              "      <td>Prius</td>\n",
              "      <td>2011</td>\n",
              "      <td>Hatchback</td>\n",
              "      <td>195000.0</td>\n",
              "      <td>1800.0</td>\n",
              "      <td>Hybrid</td>\n",
              "      <td>Automatic</td>\n",
              "      <td>7750.0</td>\n",
              "    </tr>\n",
              "    <tr>\n",
              "      <th>1</th>\n",
              "      <td>Renault</td>\n",
              "      <td>Grand Scenic</td>\n",
              "      <td>2014</td>\n",
              "      <td>Universal</td>\n",
              "      <td>135000.0</td>\n",
              "      <td>1500.0</td>\n",
              "      <td>Diesel</td>\n",
              "      <td>Manual</td>\n",
              "      <td>8550.0</td>\n",
              "    </tr>\n",
              "    <tr>\n",
              "      <th>2</th>\n",
              "      <td>Renault</td>\n",
              "      <td>Laguna</td>\n",
              "      <td>2012</td>\n",
              "      <td>Universal</td>\n",
              "      <td>110000.0</td>\n",
              "      <td>1500.0</td>\n",
              "      <td>Diesel</td>\n",
              "      <td>Manual</td>\n",
              "      <td>6550.0</td>\n",
              "    </tr>\n",
              "    <tr>\n",
              "      <th>3</th>\n",
              "      <td>Opel</td>\n",
              "      <td>Astra</td>\n",
              "      <td>2006</td>\n",
              "      <td>Universal</td>\n",
              "      <td>200000.0</td>\n",
              "      <td>1600.0</td>\n",
              "      <td>Metan/Propan</td>\n",
              "      <td>Manual</td>\n",
              "      <td>4100.0</td>\n",
              "    </tr>\n",
              "    <tr>\n",
              "      <th>4</th>\n",
              "      <td>Mercedes</td>\n",
              "      <td>Vito</td>\n",
              "      <td>2000</td>\n",
              "      <td>Microvan</td>\n",
              "      <td>300000.0</td>\n",
              "      <td>2200.0</td>\n",
              "      <td>Diesel</td>\n",
              "      <td>Manual</td>\n",
              "      <td>3490.0</td>\n",
              "    </tr>\n",
              "    <tr>\n",
              "      <th>...</th>\n",
              "      <td>...</td>\n",
              "      <td>...</td>\n",
              "      <td>...</td>\n",
              "      <td>...</td>\n",
              "      <td>...</td>\n",
              "      <td>...</td>\n",
              "      <td>...</td>\n",
              "      <td>...</td>\n",
              "      <td>...</td>\n",
              "    </tr>\n",
              "    <tr>\n",
              "      <th>32480</th>\n",
              "      <td>Volkswagen</td>\n",
              "      <td>Passat</td>\n",
              "      <td>2016</td>\n",
              "      <td>Sedan</td>\n",
              "      <td>88000.0</td>\n",
              "      <td>1800.0</td>\n",
              "      <td>Petrol</td>\n",
              "      <td>Automatic</td>\n",
              "      <td>11500.0</td>\n",
              "    </tr>\n",
              "    <tr>\n",
              "      <th>32481</th>\n",
              "      <td>Land Rover</td>\n",
              "      <td>Freelander</td>\n",
              "      <td>2002</td>\n",
              "      <td>Crossover</td>\n",
              "      <td>225000.0</td>\n",
              "      <td>1800.0</td>\n",
              "      <td>Metan/Propan</td>\n",
              "      <td>Manual</td>\n",
              "      <td>4400.0</td>\n",
              "    </tr>\n",
              "    <tr>\n",
              "      <th>32482</th>\n",
              "      <td>Dacia</td>\n",
              "      <td>Logan Mcv</td>\n",
              "      <td>2015</td>\n",
              "      <td>Universal</td>\n",
              "      <td>89000.0</td>\n",
              "      <td>1500.0</td>\n",
              "      <td>Diesel</td>\n",
              "      <td>Manual</td>\n",
              "      <td>7000.0</td>\n",
              "    </tr>\n",
              "    <tr>\n",
              "      <th>32483</th>\n",
              "      <td>Mazda</td>\n",
              "      <td>6</td>\n",
              "      <td>2006</td>\n",
              "      <td>Combi</td>\n",
              "      <td>370000.0</td>\n",
              "      <td>2000.0</td>\n",
              "      <td>Diesel</td>\n",
              "      <td>Manual</td>\n",
              "      <td>4000.0</td>\n",
              "    </tr>\n",
              "    <tr>\n",
              "      <th>32484</th>\n",
              "      <td>Renault</td>\n",
              "      <td>Grand Scenic</td>\n",
              "      <td>2006</td>\n",
              "      <td>Minivan</td>\n",
              "      <td>300000.0</td>\n",
              "      <td>1500.0</td>\n",
              "      <td>Diesel</td>\n",
              "      <td>Manual</td>\n",
              "      <td>4000.0</td>\n",
              "    </tr>\n",
              "  </tbody>\n",
              "</table>\n",
              "<p>32485 rows × 9 columns</p>\n",
              "</div>\n",
              "    <div class=\"colab-df-buttons\">\n",
              "\n",
              "  <div class=\"colab-df-container\">\n",
              "    <button class=\"colab-df-convert\" onclick=\"convertToInteractive('df-667c1c34-0e1b-4a6b-b275-449b0f69286a')\"\n",
              "            title=\"Convert this dataframe to an interactive table.\"\n",
              "            style=\"display:none;\">\n",
              "\n",
              "  <svg xmlns=\"http://www.w3.org/2000/svg\" height=\"24px\" viewBox=\"0 -960 960 960\">\n",
              "    <path d=\"M120-120v-720h720v720H120Zm60-500h600v-160H180v160Zm220 220h160v-160H400v160Zm0 220h160v-160H400v160ZM180-400h160v-160H180v160Zm440 0h160v-160H620v160ZM180-180h160v-160H180v160Zm440 0h160v-160H620v160Z\"/>\n",
              "  </svg>\n",
              "    </button>\n",
              "\n",
              "  <style>\n",
              "    .colab-df-container {\n",
              "      display:flex;\n",
              "      gap: 12px;\n",
              "    }\n",
              "\n",
              "    .colab-df-convert {\n",
              "      background-color: #E8F0FE;\n",
              "      border: none;\n",
              "      border-radius: 50%;\n",
              "      cursor: pointer;\n",
              "      display: none;\n",
              "      fill: #1967D2;\n",
              "      height: 32px;\n",
              "      padding: 0 0 0 0;\n",
              "      width: 32px;\n",
              "    }\n",
              "\n",
              "    .colab-df-convert:hover {\n",
              "      background-color: #E2EBFA;\n",
              "      box-shadow: 0px 1px 2px rgba(60, 64, 67, 0.3), 0px 1px 3px 1px rgba(60, 64, 67, 0.15);\n",
              "      fill: #174EA6;\n",
              "    }\n",
              "\n",
              "    .colab-df-buttons div {\n",
              "      margin-bottom: 4px;\n",
              "    }\n",
              "\n",
              "    [theme=dark] .colab-df-convert {\n",
              "      background-color: #3B4455;\n",
              "      fill: #D2E3FC;\n",
              "    }\n",
              "\n",
              "    [theme=dark] .colab-df-convert:hover {\n",
              "      background-color: #434B5C;\n",
              "      box-shadow: 0px 1px 3px 1px rgba(0, 0, 0, 0.15);\n",
              "      filter: drop-shadow(0px 1px 2px rgba(0, 0, 0, 0.3));\n",
              "      fill: #FFFFFF;\n",
              "    }\n",
              "  </style>\n",
              "\n",
              "    <script>\n",
              "      const buttonEl =\n",
              "        document.querySelector('#df-667c1c34-0e1b-4a6b-b275-449b0f69286a button.colab-df-convert');\n",
              "      buttonEl.style.display =\n",
              "        google.colab.kernel.accessAllowed ? 'block' : 'none';\n",
              "\n",
              "      async function convertToInteractive(key) {\n",
              "        const element = document.querySelector('#df-667c1c34-0e1b-4a6b-b275-449b0f69286a');\n",
              "        const dataTable =\n",
              "          await google.colab.kernel.invokeFunction('convertToInteractive',\n",
              "                                                    [key], {});\n",
              "        if (!dataTable) return;\n",
              "\n",
              "        const docLinkHtml = 'Like what you see? Visit the ' +\n",
              "          '<a target=\"_blank\" href=https://colab.research.google.com/notebooks/data_table.ipynb>data table notebook</a>'\n",
              "          + ' to learn more about interactive tables.';\n",
              "        element.innerHTML = '';\n",
              "        dataTable['output_type'] = 'display_data';\n",
              "        await google.colab.output.renderOutput(dataTable, element);\n",
              "        const docLink = document.createElement('div');\n",
              "        docLink.innerHTML = docLinkHtml;\n",
              "        element.appendChild(docLink);\n",
              "      }\n",
              "    </script>\n",
              "  </div>\n",
              "\n",
              "\n",
              "<div id=\"df-31fd7d5e-37b9-46c2-b8fa-1f227a6982c3\">\n",
              "  <button class=\"colab-df-quickchart\" onclick=\"quickchart('df-31fd7d5e-37b9-46c2-b8fa-1f227a6982c3')\"\n",
              "            title=\"Suggest charts\"\n",
              "            style=\"display:none;\">\n",
              "\n",
              "<svg xmlns=\"http://www.w3.org/2000/svg\" height=\"24px\"viewBox=\"0 0 24 24\"\n",
              "     width=\"24px\">\n",
              "    <g>\n",
              "        <path d=\"M19 3H5c-1.1 0-2 .9-2 2v14c0 1.1.9 2 2 2h14c1.1 0 2-.9 2-2V5c0-1.1-.9-2-2-2zM9 17H7v-7h2v7zm4 0h-2V7h2v10zm4 0h-2v-4h2v4z\"/>\n",
              "    </g>\n",
              "</svg>\n",
              "  </button>\n",
              "\n",
              "<style>\n",
              "  .colab-df-quickchart {\n",
              "      --bg-color: #E8F0FE;\n",
              "      --fill-color: #1967D2;\n",
              "      --hover-bg-color: #E2EBFA;\n",
              "      --hover-fill-color: #174EA6;\n",
              "      --disabled-fill-color: #AAA;\n",
              "      --disabled-bg-color: #DDD;\n",
              "  }\n",
              "\n",
              "  [theme=dark] .colab-df-quickchart {\n",
              "      --bg-color: #3B4455;\n",
              "      --fill-color: #D2E3FC;\n",
              "      --hover-bg-color: #434B5C;\n",
              "      --hover-fill-color: #FFFFFF;\n",
              "      --disabled-bg-color: #3B4455;\n",
              "      --disabled-fill-color: #666;\n",
              "  }\n",
              "\n",
              "  .colab-df-quickchart {\n",
              "    background-color: var(--bg-color);\n",
              "    border: none;\n",
              "    border-radius: 50%;\n",
              "    cursor: pointer;\n",
              "    display: none;\n",
              "    fill: var(--fill-color);\n",
              "    height: 32px;\n",
              "    padding: 0;\n",
              "    width: 32px;\n",
              "  }\n",
              "\n",
              "  .colab-df-quickchart:hover {\n",
              "    background-color: var(--hover-bg-color);\n",
              "    box-shadow: 0 1px 2px rgba(60, 64, 67, 0.3), 0 1px 3px 1px rgba(60, 64, 67, 0.15);\n",
              "    fill: var(--button-hover-fill-color);\n",
              "  }\n",
              "\n",
              "  .colab-df-quickchart-complete:disabled,\n",
              "  .colab-df-quickchart-complete:disabled:hover {\n",
              "    background-color: var(--disabled-bg-color);\n",
              "    fill: var(--disabled-fill-color);\n",
              "    box-shadow: none;\n",
              "  }\n",
              "\n",
              "  .colab-df-spinner {\n",
              "    border: 2px solid var(--fill-color);\n",
              "    border-color: transparent;\n",
              "    border-bottom-color: var(--fill-color);\n",
              "    animation:\n",
              "      spin 1s steps(1) infinite;\n",
              "  }\n",
              "\n",
              "  @keyframes spin {\n",
              "    0% {\n",
              "      border-color: transparent;\n",
              "      border-bottom-color: var(--fill-color);\n",
              "      border-left-color: var(--fill-color);\n",
              "    }\n",
              "    20% {\n",
              "      border-color: transparent;\n",
              "      border-left-color: var(--fill-color);\n",
              "      border-top-color: var(--fill-color);\n",
              "    }\n",
              "    30% {\n",
              "      border-color: transparent;\n",
              "      border-left-color: var(--fill-color);\n",
              "      border-top-color: var(--fill-color);\n",
              "      border-right-color: var(--fill-color);\n",
              "    }\n",
              "    40% {\n",
              "      border-color: transparent;\n",
              "      border-right-color: var(--fill-color);\n",
              "      border-top-color: var(--fill-color);\n",
              "    }\n",
              "    60% {\n",
              "      border-color: transparent;\n",
              "      border-right-color: var(--fill-color);\n",
              "    }\n",
              "    80% {\n",
              "      border-color: transparent;\n",
              "      border-right-color: var(--fill-color);\n",
              "      border-bottom-color: var(--fill-color);\n",
              "    }\n",
              "    90% {\n",
              "      border-color: transparent;\n",
              "      border-bottom-color: var(--fill-color);\n",
              "    }\n",
              "  }\n",
              "</style>\n",
              "\n",
              "  <script>\n",
              "    async function quickchart(key) {\n",
              "      const quickchartButtonEl =\n",
              "        document.querySelector('#' + key + ' button');\n",
              "      quickchartButtonEl.disabled = true;  // To prevent multiple clicks.\n",
              "      quickchartButtonEl.classList.add('colab-df-spinner');\n",
              "      try {\n",
              "        const charts = await google.colab.kernel.invokeFunction(\n",
              "            'suggestCharts', [key], {});\n",
              "      } catch (error) {\n",
              "        console.error('Error during call to suggestCharts:', error);\n",
              "      }\n",
              "      quickchartButtonEl.classList.remove('colab-df-spinner');\n",
              "      quickchartButtonEl.classList.add('colab-df-quickchart-complete');\n",
              "    }\n",
              "    (() => {\n",
              "      let quickchartButtonEl =\n",
              "        document.querySelector('#df-31fd7d5e-37b9-46c2-b8fa-1f227a6982c3 button');\n",
              "      quickchartButtonEl.style.display =\n",
              "        google.colab.kernel.accessAllowed ? 'block' : 'none';\n",
              "    })();\n",
              "  </script>\n",
              "</div>\n",
              "    </div>\n",
              "  </div>\n"
            ],
            "application/vnd.google.colaboratory.intrinsic+json": {
              "type": "dataframe",
              "variable_name": "DF",
              "summary": "{\n  \"name\": \"DF\",\n  \"rows\": 32485,\n  \"fields\": [\n    {\n      \"column\": \"Make\",\n      \"properties\": {\n        \"dtype\": \"category\",\n        \"num_unique_values\": 48,\n        \"samples\": [\n          \"Land Rover\",\n          \"Jeep\",\n          \"Infiniti\"\n        ],\n        \"semantic_type\": \"\",\n        \"description\": \"\"\n      }\n    },\n    {\n      \"column\": \"Model\",\n      \"properties\": {\n        \"dtype\": \"category\",\n        \"num_unique_values\": 781,\n        \"samples\": [\n          \"Justy\",\n          \"Vaneo\",\n          \"Atos\"\n        ],\n        \"semantic_type\": \"\",\n        \"description\": \"\"\n      }\n    },\n    {\n      \"column\": \"Year\",\n      \"properties\": {\n        \"dtype\": \"number\",\n        \"std\": 7,\n        \"min\": 1971,\n        \"max\": 2021,\n        \"num_unique_values\": 50,\n        \"samples\": [\n          2013,\n          1990,\n          1987\n        ],\n        \"semantic_type\": \"\",\n        \"description\": \"\"\n      }\n    },\n    {\n      \"column\": \"Style\",\n      \"properties\": {\n        \"dtype\": \"category\",\n        \"num_unique_values\": 12,\n        \"samples\": [\n          \"Cabriolet\",\n          \"Combi\",\n          \"Hatchback\"\n        ],\n        \"semantic_type\": \"\",\n        \"description\": \"\"\n      }\n    },\n    {\n      \"column\": \"Distance\",\n      \"properties\": {\n        \"dtype\": \"number\",\n        \"std\": 91554.9546743865,\n        \"min\": 1.0,\n        \"max\": 500000.0,\n        \"num_unique_values\": 8081,\n        \"samples\": [\n          234829.0,\n          105217.0,\n          478563.0\n        ],\n        \"semantic_type\": \"\",\n        \"description\": \"\"\n      }\n    },\n    {\n      \"column\": \"Engine_capacity(cm3)\",\n      \"properties\": {\n        \"dtype\": \"number\",\n        \"std\": 625.2367314328407,\n        \"min\": 0.0,\n        \"max\": 5000.0,\n        \"num_unique_values\": 636,\n        \"samples\": [\n          995.0,\n          3328.0,\n          1388.0\n        ],\n        \"semantic_type\": \"\",\n        \"description\": \"\"\n      }\n    },\n    {\n      \"column\": \"Fuel_type\",\n      \"properties\": {\n        \"dtype\": \"category\",\n        \"num_unique_values\": 6,\n        \"samples\": [\n          \"Hybrid\",\n          \"Diesel\",\n          \"Plug-in Hybrid\"\n        ],\n        \"semantic_type\": \"\",\n        \"description\": \"\"\n      }\n    },\n    {\n      \"column\": \"Transmission\",\n      \"properties\": {\n        \"dtype\": \"category\",\n        \"num_unique_values\": 2,\n        \"samples\": [\n          \"Manual\",\n          \"Automatic\"\n        ],\n        \"semantic_type\": \"\",\n        \"description\": \"\"\n      }\n    },\n    {\n      \"column\": \"Price(euro)\",\n      \"properties\": {\n        \"dtype\": \"number\",\n        \"std\": 7839.471389087623,\n        \"min\": 200.0,\n        \"max\": 50000.0,\n        \"num_unique_values\": 1562,\n        \"samples\": [\n          720.0,\n          31499.0\n        ],\n        \"semantic_type\": \"\",\n        \"description\": \"\"\n      }\n    }\n  ]\n}"
            }
          },
          "metadata": {},
          "execution_count": 3
        }
      ]
    },
    {
      "cell_type": "markdown",
      "source": [
        "Список числовых и категориальных данных"
      ],
      "metadata": {
        "id": "iFlAkKVu-wy6"
      }
    },
    {
      "cell_type": "code",
      "metadata": {
        "id": "yU8gHQJjwzDa"
      },
      "source": [
        "cat_columns = ['Make', 'Model', 'Style', 'Fuel_type', 'Transmission']\n",
        "num_columns = ['Year', 'Distance', 'Engine_capacity(cm3)', 'Price(euro)']"
      ],
      "execution_count": null,
      "outputs": []
    },
    {
      "cell_type": "code",
      "source": [
        "class QuantileReplacer(BaseEstimator, TransformerMixin):\n",
        "    def __init__(self, threshold=0.05):\n",
        "        self.threshold = threshold\n",
        "        self.quantiles = {}\n",
        "\n",
        "    def fit(self, X, y=None):\n",
        "        for col in X.select_dtypes(include='number'):\n",
        "            low_quantile = X[col].quantile(self.threshold)\n",
        "            high_quantile = X[col].quantile(1 - self.threshold)\n",
        "            self.quantiles[col] = (low_quantile, high_quantile)\n",
        "        return self\n",
        "\n",
        "    def transform(self, X):\n",
        "        X_copy = X.copy()\n",
        "        for col in X.select_dtypes(include='number'):\n",
        "            low_quantile, high_quantile = self.quantiles[col]\n",
        "            rare_mask = ((X[col] < low_quantile) | (X[col] > high_quantile))\n",
        "            if rare_mask.any():\n",
        "                rare_values = X_copy.loc[rare_mask, col]\n",
        "                replace_value = np.mean([low_quantile, high_quantile])\n",
        "                if rare_values.mean() > replace_value:\n",
        "                    X_copy.loc[rare_mask, col] = high_quantile\n",
        "                else:\n",
        "                    X_copy.loc[rare_mask, col] = low_quantile\n",
        "        return X_copy"
      ],
      "metadata": {
        "id": "k8u1TiHBSgpt"
      },
      "execution_count": null,
      "outputs": []
    },
    {
      "cell_type": "code",
      "source": [
        "class RareGrouper(BaseEstimator, TransformerMixin):\n",
        "    def __init__(self, threshold=0.05, other_value='Other'):\n",
        "        self.threshold = threshold\n",
        "        self.other_value = other_value\n",
        "        self.freq_dict = {}\n",
        "\n",
        "    def fit(self, X, y=None):\n",
        "        for col in X.select_dtypes(include=['object']):\n",
        "            freq = X[col].value_counts(normalize=True)\n",
        "            self.freq_dict[col] = freq[freq >= self.threshold].index.tolist()\n",
        "        return self\n",
        "\n",
        "    def transform(self, X, y=None):\n",
        "        X_copy = X.copy()\n",
        "        for col in X.select_dtypes(include=['object']):\n",
        "            X_copy[col] = X_copy[col].apply(lambda x: x if x in self.freq_dict[col] else self.other_value)\n",
        "        return X_copy"
      ],
      "metadata": {
        "id": "Rk3_HOSqSjQM"
      },
      "execution_count": null,
      "outputs": []
    },
    {
      "cell_type": "markdown",
      "source": [
        "Класс `TargetEncoder` принимает необязательный параметр `cols`, который представляет собой список столбцов для кодирования. Если `cols` не указан, он будет кодировать все категориальные столбцы во фрейме данных.\n",
        "\n",
        "Метод `fit` вычисляет среднее целевое значение для каждого уникального значения в указанных столбцах. Затем он сохраняет средние целевые значения в словаре.\n",
        "\n",
        "Метод `transform` использует средние целевые значения, хранящиеся в словаре, для замены категориальных значений их соответствующими средними целевыми значениями. Если категориальное значение не найдено в словаре, оно заменяется средним значением столбца."
      ],
      "metadata": {
        "id": "8Q9Hbk2nB5b9"
      }
    },
    {
      "cell_type": "code",
      "source": [
        "class TargetEncoder(BaseEstimator, TransformerMixin):\n",
        "    def __init__(self, cols=None):\n",
        "        self.cols = cols\n",
        "        self.target_mean = {}\n",
        "\n",
        "    def fit(self, X, y):\n",
        "        if self.cols is None:\n",
        "            self.cols = X.columns\n",
        "        for col in self.cols:\n",
        "            self.target_mean[col] = {}\n",
        "            X_copy = X.copy()\n",
        "            X_copy[y.name]=y\n",
        "            self.target_mean[col] = X_copy.groupby(col)[y.name].mean().to_dict()\n",
        "        return self\n",
        "\n",
        "    def transform(self, X):\n",
        "        for col in self.cols:\n",
        "            X[col] = X[col].map(self.target_mean[col])\n",
        "            X[col] = X[col].fillna(np.mean(X[col]))\n",
        "        return X"
      ],
      "metadata": {
        "id": "7kmFE5nl_2g1"
      },
      "execution_count": null,
      "outputs": []
    },
    {
      "cell_type": "code",
      "source": [
        "num_pipe_distance = Pipeline([\n",
        "    ('QuantReplace', QuantileReplacer(threshold=0.01, )),\n",
        "    ('scaler', None)\n",
        "])\n",
        "\n",
        "num_distance = ['Distance']\n",
        "\n",
        "num_pipe_engine = Pipeline([\n",
        "    ('scaler', None)\n",
        "])\n",
        "\n",
        "num_engine = ['Engine_capacity(cm3)']\n",
        "\n",
        "num_pipe_year = Pipeline([\n",
        "    ('QuantReplace', QuantileReplacer(threshold=0.01, )),\n",
        "    ('power', None)\n",
        "])\n",
        "\n",
        "num_year = ['Year']\n",
        "\n",
        "cat_pipe_transmission = Pipeline([\n",
        "    ('encoder', OrdinalEncoder())\n",
        "\n",
        "])\n",
        "\n",
        "cat_transmission = ['Transmission']\n",
        "\n",
        "cat_pipe_style_fuel = Pipeline([\n",
        "    ('encoder', TargetEncoder())\n",
        "\n",
        "])\n",
        "\n",
        "cat_style_fuel = ['Style', 'Fuel_type']\n",
        "\n",
        "cat_pipe_make = Pipeline([\n",
        "    ('replace_rare', RareGrouper(threshold=0.001, other_value='Other')),\n",
        "    ('encoder', TargetEncoder())\n",
        "])\n",
        "\n",
        "cat_make = ['Make']\n",
        "\n",
        "cat_pipe_model = Pipeline([\n",
        "    ('replace_rare', RareGrouper(threshold=0.0001, other_value='Other')),\n",
        "    ('encoder', TargetEncoder())\n",
        "])\n",
        "\n",
        "cat_model = ['Model']\n",
        "\n",
        "preprocessors_all = ColumnTransformer(transformers=[\n",
        "    ('num_distance', num_pipe_distance, num_distance),\n",
        "    ('num_engine', num_pipe_engine, num_engine),\n",
        "    ('num_year', num_pipe_year, num_year),\n",
        "    ('cat_transmission', cat_pipe_transmission, cat_transmission),\n",
        "    ('cat_style_fuel', cat_pipe_style_fuel, cat_style_fuel),\n",
        "    ('cat_make', cat_pipe_make, cat_make),\n",
        "    ('cat_model', cat_pipe_model, cat_model),\n",
        "])"
      ],
      "metadata": {
        "id": "zZ1zcFJSSmfc"
      },
      "execution_count": null,
      "outputs": []
    },
    {
      "cell_type": "markdown",
      "metadata": {
        "id": "4ZCkHlunJgQY"
      },
      "source": [
        "# Случайный Лес для Регрессии"
      ]
    },
    {
      "cell_type": "code",
      "metadata": {
        "id": "sEfPA0RSJgQY"
      },
      "source": [
        "from sklearn.ensemble import RandomForestRegressor # Случайный Лес для Регрессии от scikit-learn\n",
        "\n",
        "from sklearn.model_selection import train_test_split # функция разбиения на тренировочную и валидационную выборку\n",
        "# в исполнении scikit-learn\n",
        "from sklearn.model_selection import ShuffleSplit # при кросс-валидации случайно перемешиваем данные\n",
        "from sklearn.model_selection import cross_validate # функция кросс-валидации от Scikit-learn\n",
        "\n",
        "from sklearn.metrics import mean_squared_error as mse # метрика MSE от Scikit-learn\n",
        "from sklearn.metrics import r2_score # коэффициент детерминации  от Scikit-learn\n",
        "\n",
        "from sklearn.metrics import PredictionErrorDisplay # Класс визуализации ошибок модели"
      ],
      "execution_count": null,
      "outputs": []
    },
    {
      "cell_type": "markdown",
      "metadata": {
        "id": "8EDYLQ2K1S16"
      },
      "source": [
        "**Считываем данные, разбиваем на тренировочную и валидационную**"
      ]
    },
    {
      "cell_type": "code",
      "metadata": {
        "id": "X9CoF_ukzxde"
      },
      "source": [
        "# не забываем удалить целевую переменную цену из признаков\n",
        "X, y = DF.drop(columns = ['Price(euro)']), DF['Price(euro)']\n",
        "\n",
        "# разбиваем на тренировочную и валидационную\n",
        "X_train, X_val, y_train, y_val = train_test_split(X, y,\n",
        "                                                    test_size=0.3,\n",
        "                                                    random_state=42)"
      ],
      "execution_count": null,
      "outputs": []
    },
    {
      "cell_type": "markdown",
      "metadata": {
        "id": "qVPJyGpARqEI"
      },
      "source": [
        "## Сразу используем все признаки"
      ]
    },
    {
      "cell_type": "markdown",
      "source": [
        "**Преобразуем данные**\n",
        "\n",
        "Поскольку мы используем TargetEncoder для обучения, необходимо использовать столбец целевой переменной"
      ],
      "metadata": {
        "id": "vr4NG7D3KIW7"
      }
    },
    {
      "cell_type": "code",
      "metadata": {
        "id": "yHtSSw5SRqEI"
      },
      "source": [
        "# Сначала обучаем на тренировочных данных, при этом одновременно трансформируем их\n",
        "X_train_prep = preprocessors_all.fit_transform(X_train, y_train)\n",
        "# потом трансформируем на валидационных данных\n",
        "X_val_prep = preprocessors_all.transform(X_val)"
      ],
      "execution_count": null,
      "outputs": []
    },
    {
      "cell_type": "code",
      "source": [
        "# объединяем названия колонок в один список (важен порядок как в ColumnTransformer)\n",
        "columns = np.hstack([num_distance,\n",
        "                    num_engine,\n",
        "                    num_year,\n",
        "                    cat_transmission,\n",
        "                    cat_style_fuel,\n",
        "                    cat_make,\n",
        "                    cat_model])"
      ],
      "metadata": {
        "id": "dNTG7sR7KxG_"
      },
      "execution_count": null,
      "outputs": []
    },
    {
      "cell_type": "markdown",
      "source": [
        "**Обучаем модель**"
      ],
      "metadata": {
        "id": "pwPCU-RIfF8F"
      }
    },
    {
      "cell_type": "markdown",
      "source": [
        "\n",
        "\n",
        "Стандартная уже для нас рутина\n",
        "\n",
        "* Создаем объект класса\n",
        "* \"Обучаем\" через метод `.fit`"
      ],
      "metadata": {
        "id": "O6MgehC7epG9"
      }
    },
    {
      "cell_type": "code",
      "source": [
        "model_rf = RandomForestRegressor(n_estimators=150,\n",
        "                                max_depth=10,\n",
        "                            oob_score=True\n",
        "                              )\n",
        "\n",
        "model_rf.fit(X_train_prep, y_train)"
      ],
      "metadata": {
        "colab": {
          "base_uri": "https://localhost:8080/",
          "height": 75
        },
        "id": "koT98wAEV9Ko",
        "outputId": "e0357b4f-4f2b-4a46-8d0b-691efeb4dbff"
      },
      "execution_count": null,
      "outputs": [
        {
          "output_type": "execute_result",
          "data": {
            "text/plain": [
              "RandomForestRegressor(max_depth=10, n_estimators=150, oob_score=True)"
            ],
            "text/html": [
              "<style>#sk-container-id-1 {color: black;background-color: white;}#sk-container-id-1 pre{padding: 0;}#sk-container-id-1 div.sk-toggleable {background-color: white;}#sk-container-id-1 label.sk-toggleable__label {cursor: pointer;display: block;width: 100%;margin-bottom: 0;padding: 0.3em;box-sizing: border-box;text-align: center;}#sk-container-id-1 label.sk-toggleable__label-arrow:before {content: \"▸\";float: left;margin-right: 0.25em;color: #696969;}#sk-container-id-1 label.sk-toggleable__label-arrow:hover:before {color: black;}#sk-container-id-1 div.sk-estimator:hover label.sk-toggleable__label-arrow:before {color: black;}#sk-container-id-1 div.sk-toggleable__content {max-height: 0;max-width: 0;overflow: hidden;text-align: left;background-color: #f0f8ff;}#sk-container-id-1 div.sk-toggleable__content pre {margin: 0.2em;color: black;border-radius: 0.25em;background-color: #f0f8ff;}#sk-container-id-1 input.sk-toggleable__control:checked~div.sk-toggleable__content {max-height: 200px;max-width: 100%;overflow: auto;}#sk-container-id-1 input.sk-toggleable__control:checked~label.sk-toggleable__label-arrow:before {content: \"▾\";}#sk-container-id-1 div.sk-estimator input.sk-toggleable__control:checked~label.sk-toggleable__label {background-color: #d4ebff;}#sk-container-id-1 div.sk-label input.sk-toggleable__control:checked~label.sk-toggleable__label {background-color: #d4ebff;}#sk-container-id-1 input.sk-hidden--visually {border: 0;clip: rect(1px 1px 1px 1px);clip: rect(1px, 1px, 1px, 1px);height: 1px;margin: -1px;overflow: hidden;padding: 0;position: absolute;width: 1px;}#sk-container-id-1 div.sk-estimator {font-family: monospace;background-color: #f0f8ff;border: 1px dotted black;border-radius: 0.25em;box-sizing: border-box;margin-bottom: 0.5em;}#sk-container-id-1 div.sk-estimator:hover {background-color: #d4ebff;}#sk-container-id-1 div.sk-parallel-item::after {content: \"\";width: 100%;border-bottom: 1px solid gray;flex-grow: 1;}#sk-container-id-1 div.sk-label:hover label.sk-toggleable__label {background-color: #d4ebff;}#sk-container-id-1 div.sk-serial::before {content: \"\";position: absolute;border-left: 1px solid gray;box-sizing: border-box;top: 0;bottom: 0;left: 50%;z-index: 0;}#sk-container-id-1 div.sk-serial {display: flex;flex-direction: column;align-items: center;background-color: white;padding-right: 0.2em;padding-left: 0.2em;position: relative;}#sk-container-id-1 div.sk-item {position: relative;z-index: 1;}#sk-container-id-1 div.sk-parallel {display: flex;align-items: stretch;justify-content: center;background-color: white;position: relative;}#sk-container-id-1 div.sk-item::before, #sk-container-id-1 div.sk-parallel-item::before {content: \"\";position: absolute;border-left: 1px solid gray;box-sizing: border-box;top: 0;bottom: 0;left: 50%;z-index: -1;}#sk-container-id-1 div.sk-parallel-item {display: flex;flex-direction: column;z-index: 1;position: relative;background-color: white;}#sk-container-id-1 div.sk-parallel-item:first-child::after {align-self: flex-end;width: 50%;}#sk-container-id-1 div.sk-parallel-item:last-child::after {align-self: flex-start;width: 50%;}#sk-container-id-1 div.sk-parallel-item:only-child::after {width: 0;}#sk-container-id-1 div.sk-dashed-wrapped {border: 1px dashed gray;margin: 0 0.4em 0.5em 0.4em;box-sizing: border-box;padding-bottom: 0.4em;background-color: white;}#sk-container-id-1 div.sk-label label {font-family: monospace;font-weight: bold;display: inline-block;line-height: 1.2em;}#sk-container-id-1 div.sk-label-container {text-align: center;}#sk-container-id-1 div.sk-container {/* jupyter's `normalize.less` sets `[hidden] { display: none; }` but bootstrap.min.css set `[hidden] { display: none !important; }` so we also need the `!important` here to be able to override the default hidden behavior on the sphinx rendered scikit-learn.org. See: https://github.com/scikit-learn/scikit-learn/issues/21755 */display: inline-block !important;position: relative;}#sk-container-id-1 div.sk-text-repr-fallback {display: none;}</style><div id=\"sk-container-id-1\" class=\"sk-top-container\"><div class=\"sk-text-repr-fallback\"><pre>RandomForestRegressor(max_depth=10, n_estimators=150, oob_score=True)</pre><b>In a Jupyter environment, please rerun this cell to show the HTML representation or trust the notebook. <br />On GitHub, the HTML representation is unable to render, please try loading this page with nbviewer.org.</b></div><div class=\"sk-container\" hidden><div class=\"sk-item\"><div class=\"sk-estimator sk-toggleable\"><input class=\"sk-toggleable__control sk-hidden--visually\" id=\"sk-estimator-id-1\" type=\"checkbox\" checked><label for=\"sk-estimator-id-1\" class=\"sk-toggleable__label sk-toggleable__label-arrow\">RandomForestRegressor</label><div class=\"sk-toggleable__content\"><pre>RandomForestRegressor(max_depth=10, n_estimators=150, oob_score=True)</pre></div></div></div></div></div>"
            ]
          },
          "metadata": {},
          "execution_count": 13
        }
      ]
    },
    {
      "cell_type": "markdown",
      "source": [
        "## Визуализация значимости признаков"
      ],
      "metadata": {
        "id": "E818o5N8f4uT"
      }
    },
    {
      "cell_type": "code",
      "source": [
        "def feature_importance_plotter(model, features_names):\n",
        "    \"\"\"Отрисовка значимости признаков в виде горизонтальных столбчатых диаграмм.\n",
        "    Параметры:\n",
        "    ===========\n",
        "    model: модель\n",
        "    features_names: список имен признаков\n",
        "    \"\"\"\n",
        "    feature_importance = model.feature_importances_\n",
        "\n",
        "    sorted = np.argsort(feature_importance)\n",
        "\n",
        "    ypos = np.arange(len(features_names))\n",
        "\n",
        "    fig= plt.figure(figsize=(8,4))\n",
        "    plt.barh(ypos, feature_importance[sorted])\n",
        "    plt.xlim([0,1])\n",
        "    plt.ylabel('Параметры')\n",
        "    plt.xlabel('Значимость')\n",
        "    plt.yticks(ypos,features_names[sorted] );"
      ],
      "metadata": {
        "id": "Ecy3oAJp4OFI"
      },
      "execution_count": null,
      "outputs": []
    },
    {
      "cell_type": "code",
      "metadata": {
        "id": "rTwNRMT7RqEI",
        "colab": {
          "base_uri": "https://localhost:8080/",
          "height": 388
        },
        "outputId": "7e7299b7-232b-45b7-88ef-eec04d523ca2"
      },
      "source": [
        "feature_importance_plotter(model_rf, columns)"
      ],
      "execution_count": null,
      "outputs": [
        {
          "output_type": "display_data",
          "data": {
            "text/plain": [
              "<Figure size 800x400 with 1 Axes>"
            ],
            "image/png": "[encoded data removed]"
          },
          "metadata": {}
        }
      ]
    },
    {
      "cell_type": "markdown",
      "source": [
        "## Оценка метрик"
      ],
      "metadata": {
        "id": "ZgNBwaqoWiLy"
      }
    },
    {
      "cell_type": "code",
      "source": [
        "def calculate_metric(model_pipe, X, y, metric = r2_score):\n",
        "    \"\"\"Расчет метрики.\n",
        "    Параметры:\n",
        "    ===========\n",
        "    model_pipe: модель или pipeline\n",
        "    X: признаки\n",
        "    y: истинные значения\n",
        "    metric: метрика (r2 - по умолчанию)\n",
        "    \"\"\"\n",
        "    y_model = model_pipe.predict(X)\n",
        "    return metric(y, y_model)"
      ],
      "metadata": {
        "id": "Ropf87QqWLfR"
      },
      "execution_count": null,
      "outputs": []
    },
    {
      "cell_type": "code",
      "source": [
        "print(f\"r2 на тренировочной выборке: {calculate_metric(model_rf, X_train_prep, y_train):.4f}\")\n",
        "print(f\"r2 на валидационной выборке: {calculate_metric(model_rf, X_val_prep, y_val):.4f}\")\n",
        "\n",
        "print(f\"mse на тренировочной выборке: {calculate_metric(model_rf, X_train_prep, y_train, mse):.4f}\")\n",
        "print(f\"mse на валидационной выборке: {calculate_metric(model_rf, X_val_prep, y_val, mse):.4f}\")"
      ],
      "metadata": {
        "colab": {
          "base_uri": "https://localhost:8080/"
        },
        "id": "LgvAQ_-eWO85",
        "outputId": "79a0dfbd-408e-4289-8ba7-5db01590be71"
      },
      "execution_count": null,
      "outputs": [
        {
          "output_type": "stream",
          "name": "stdout",
          "text": [
            "r2 на тренировочной выборке: 0.9132\n",
            "r2 на валидационной выборке: 0.8629\n",
            "mse на тренировочной выборке: 5278745.6168\n",
            "mse на валидационной выборке: 8633671.0571\n"
          ]
        }
      ]
    },
    {
      "cell_type": "markdown",
      "source": [
        "Оценка случайного леса на out-of-bag данных"
      ],
      "metadata": {
        "id": "hnuw2MalLL67"
      }
    },
    {
      "cell_type": "code",
      "source": [
        "model_rf.oob_score_"
      ],
      "metadata": {
        "colab": {
          "base_uri": "https://localhost:8080/"
        },
        "id": "Oa7jMTHtLJ2x",
        "outputId": "2dbcfc4b-b2ce-4144-d9af-badaff8569ce"
      },
      "execution_count": null,
      "outputs": [
        {
          "output_type": "execute_result",
          "data": {
            "text/plain": [
              "0.8552416937869387"
            ]
          },
          "metadata": {},
          "execution_count": 18
        }
      ]
    },
    {
      "cell_type": "markdown",
      "source": [
        "## Кросс-валидация"
      ],
      "metadata": {
        "id": "NMBv_PFrdf-4"
      }
    },
    {
      "cell_type": "code",
      "source": [
        "def cross_validation (X, y, model, scoring, cv_rule):\n",
        "    \"\"\"Расчет метрик на кросс-валидации.\n",
        "    Параметры:\n",
        "    ===========\n",
        "    model: модель или pipeline\n",
        "    X: признаки\n",
        "    y: истинные значения\n",
        "    scoring: словарь метрик\n",
        "    cv_rule: правило кросс-валидации\n",
        "    \"\"\"\n",
        "    scores = cross_validate(model,X, y,\n",
        "                      scoring=scoring, cv=cv_rule )\n",
        "    print('Ошибка на кросс-валидации')\n",
        "    DF_score = pd.DataFrame(scores)\n",
        "    display(DF_score)\n",
        "    print('\\n')\n",
        "    print(DF_score.mean()[2:])"
      ],
      "metadata": {
        "id": "1cc0DOHUdisi"
      },
      "execution_count": null,
      "outputs": []
    },
    {
      "cell_type": "code",
      "source": [
        "scoring_reg = {'R2': 'r2',\n",
        "           '-MSE': 'neg_mean_squared_error',\n",
        "           '-MAE': 'neg_mean_absolute_error',\n",
        "           '-Max': 'max_error'}"
      ],
      "metadata": {
        "id": "hNahJrMLd5FV"
      },
      "execution_count": null,
      "outputs": []
    },
    {
      "cell_type": "code",
      "source": [
        "cross_validation (X_train_prep, y_train,\n",
        "                  model_rf,\n",
        "                  scoring_reg,\n",
        "                  ShuffleSplit(n_splits=5, random_state = 42))"
      ],
      "metadata": {
        "colab": {
          "base_uri": "https://localhost:8080/",
          "height": 349
        },
        "id": "HYZb3oHTd0mo",
        "outputId": "6db69950-9021-4480-88aa-7f867e48adf2"
      },
      "execution_count": null,
      "outputs": [
        {
          "output_type": "stream",
          "name": "stdout",
          "text": [
            "Ошибка на кросс-валидации\n"
          ]
        },
        {
          "output_type": "display_data",
          "data": {
            "text/plain": [
              "   fit_time  score_time   test_R2     test_-MSE    test_-MAE     test_-Max\n",
              "0  8.125253    0.052817  0.872598 -7.543679e+06 -1705.785428 -22797.737276\n",
              "1  6.758858    0.068741  0.863410 -8.831413e+06 -1703.464448 -36620.627868\n",
              "2  6.431118    0.044634  0.857992 -8.718225e+06 -1676.052909 -39554.190118\n",
              "3  6.929336    0.050018  0.873168 -7.575062e+06 -1684.319406 -21228.799086\n",
              "4  6.269630    0.048035  0.848545 -8.869893e+06 -1668.146586 -42604.457755"
            ],
            "text/html": [
              "\n",
              "  <div id=\"df-5cc6ef6b-e467-44d6-9dfa-96ff80d7f008\" class=\"colab-df-container\">\n",
              "    <div>\n",
              "<style scoped>\n",
              "    .dataframe tbody tr th:only-of-type {\n",
              "        vertical-align: middle;\n",
              "    }\n",
              "\n",
              "    .dataframe tbody tr th {\n",
              "        vertical-align: top;\n",
              "    }\n",
              "\n",
              "    .dataframe thead th {\n",
              "        text-align: right;\n",
              "    }\n",
              "</style>\n",
              "<table border=\"1\" class=\"dataframe\">\n",
              "  <thead>\n",
              "    <tr style=\"text-align: right;\">\n",
              "      <th></th>\n",
              "      <th>fit_time</th>\n",
              "      <th>score_time</th>\n",
              "      <th>test_R2</th>\n",
              "      <th>test_-MSE</th>\n",
              "      <th>test_-MAE</th>\n",
              "      <th>test_-Max</th>\n",
              "    </tr>\n",
              "  </thead>\n",
              "  <tbody>\n",
              "    <tr>\n",
              "      <th>0</th>\n",
              "      <td>8.125253</td>\n",
              "      <td>0.052817</td>\n",
              "      <td>0.872598</td>\n",
              "      <td>-7.543679e+06</td>\n",
              "      <td>-1705.785428</td>\n",
              "      <td>-22797.737276</td>\n",
              "    </tr>\n",
              "    <tr>\n",
              "      <th>1</th>\n",
              "      <td>6.758858</td>\n",
              "      <td>0.068741</td>\n",
              "      <td>0.863410</td>\n",
              "      <td>-8.831413e+06</td>\n",
              "      <td>-1703.464448</td>\n",
              "      <td>-36620.627868</td>\n",
              "    </tr>\n",
              "    <tr>\n",
              "      <th>2</th>\n",
              "      <td>6.431118</td>\n",
              "      <td>0.044634</td>\n",
              "      <td>0.857992</td>\n",
              "      <td>-8.718225e+06</td>\n",
              "      <td>-1676.052909</td>\n",
              "      <td>-39554.190118</td>\n",
              "    </tr>\n",
              "    <tr>\n",
              "      <th>3</th>\n",
              "      <td>6.929336</td>\n",
              "      <td>0.050018</td>\n",
              "      <td>0.873168</td>\n",
              "      <td>-7.575062e+06</td>\n",
              "      <td>-1684.319406</td>\n",
              "      <td>-21228.799086</td>\n",
              "    </tr>\n",
              "    <tr>\n",
              "      <th>4</th>\n",
              "      <td>6.269630</td>\n",
              "      <td>0.048035</td>\n",
              "      <td>0.848545</td>\n",
              "      <td>-8.869893e+06</td>\n",
              "      <td>-1668.146586</td>\n",
              "      <td>-42604.457755</td>\n",
              "    </tr>\n",
              "  </tbody>\n",
              "</table>\n",
              "</div>\n",
              "    <div class=\"colab-df-buttons\">\n",
              "\n",
              "  <div class=\"colab-df-container\">\n",
              "    <button class=\"colab-df-convert\" onclick=\"convertToInteractive('df-5cc6ef6b-e467-44d6-9dfa-96ff80d7f008')\"\n",
              "            title=\"Convert this dataframe to an interactive table.\"\n",
              "            style=\"display:none;\">\n",
              "\n",
              "  <svg xmlns=\"http://www.w3.org/2000/svg\" height=\"24px\" viewBox=\"0 -960 960 960\">\n",
              "    <path d=\"M120-120v-720h720v720H120Zm60-500h600v-160H180v160Zm220 220h160v-160H400v160Zm0 220h160v-160H400v160ZM180-400h160v-160H180v160Zm440 0h160v-160H620v160ZM180-180h160v-160H180v160Zm440 0h160v-160H620v160Z\"/>\n",
              "  </svg>\n",
              "    </button>\n",
              "\n",
              "  <style>\n",
              "    .colab-df-container {\n",
              "      display:flex;\n",
              "      gap: 12px;\n",
              "    }\n",
              "\n",
              "    .colab-df-convert {\n",
              "      background-color: #E8F0FE;\n",
              "      border: none;\n",
              "      border-radius: 50%;\n",
              "      cursor: pointer;\n",
              "      display: none;\n",
              "      fill: #1967D2;\n",
              "      height: 32px;\n",
              "      padding: 0 0 0 0;\n",
              "      width: 32px;\n",
              "    }\n",
              "\n",
              "    .colab-df-convert:hover {\n",
              "      background-color: #E2EBFA;\n",
              "      box-shadow: 0px 1px 2px rgba(60, 64, 67, 0.3), 0px 1px 3px 1px rgba(60, 64, 67, 0.15);\n",
              "      fill: #174EA6;\n",
              "    }\n",
              "\n",
              "    .colab-df-buttons div {\n",
              "      margin-bottom: 4px;\n",
              "    }\n",
              "\n",
              "    [theme=dark] .colab-df-convert {\n",
              "      background-color: #3B4455;\n",
              "      fill: #D2E3FC;\n",
              "    }\n",
              "\n",
              "    [theme=dark] .colab-df-convert:hover {\n",
              "      background-color: #434B5C;\n",
              "      box-shadow: 0px 1px 3px 1px rgba(0, 0, 0, 0.15);\n",
              "      filter: drop-shadow(0px 1px 2px rgba(0, 0, 0, 0.3));\n",
              "      fill: #FFFFFF;\n",
              "    }\n",
              "  </style>\n",
              "\n",
              "    <script>\n",
              "      const buttonEl =\n",
              "        document.querySelector('#df-5cc6ef6b-e467-44d6-9dfa-96ff80d7f008 button.colab-df-convert');\n",
              "      buttonEl.style.display =\n",
              "        google.colab.kernel.accessAllowed ? 'block' : 'none';\n",
              "\n",
              "      async function convertToInteractive(key) {\n",
              "        const element = document.querySelector('#df-5cc6ef6b-e467-44d6-9dfa-96ff80d7f008');\n",
              "        const dataTable =\n",
              "          await google.colab.kernel.invokeFunction('convertToInteractive',\n",
              "                                                    [key], {});\n",
              "        if (!dataTable) return;\n",
              "\n",
              "        const docLinkHtml = 'Like what you see? Visit the ' +\n",
              "          '<a target=\"_blank\" href=https://colab.research.google.com/notebooks/data_table.ipynb>data table notebook</a>'\n",
              "          + ' to learn more about interactive tables.';\n",
              "        element.innerHTML = '';\n",
              "        dataTable['output_type'] = 'display_data';\n",
              "        await google.colab.output.renderOutput(dataTable, element);\n",
              "        const docLink = document.createElement('div');\n",
              "        docLink.innerHTML = docLinkHtml;\n",
              "        element.appendChild(docLink);\n",
              "      }\n",
              "    </script>\n",
              "  </div>\n",
              "\n",
              "\n",
              "<div id=\"df-2faf5a08-6ae9-4ec7-8003-c0b66ec79b19\">\n",
              "  <button class=\"colab-df-quickchart\" onclick=\"quickchart('df-2faf5a08-6ae9-4ec7-8003-c0b66ec79b19')\"\n",
              "            title=\"Suggest charts\"\n",
              "            style=\"display:none;\">\n",
              "\n",
              "<svg xmlns=\"http://www.w3.org/2000/svg\" height=\"24px\"viewBox=\"0 0 24 24\"\n",
              "     width=\"24px\">\n",
              "    <g>\n",
              "        <path d=\"M19 3H5c-1.1 0-2 .9-2 2v14c0 1.1.9 2 2 2h14c1.1 0 2-.9 2-2V5c0-1.1-.9-2-2-2zM9 17H7v-7h2v7zm4 0h-2V7h2v10zm4 0h-2v-4h2v4z\"/>\n",
              "    </g>\n",
              "</svg>\n",
              "  </button>\n",
              "\n",
              "<style>\n",
              "  .colab-df-quickchart {\n",
              "      --bg-color: #E8F0FE;\n",
              "      --fill-color: #1967D2;\n",
              "      --hover-bg-color: #E2EBFA;\n",
              "      --hover-fill-color: #174EA6;\n",
              "      --disabled-fill-color: #AAA;\n",
              "      --disabled-bg-color: #DDD;\n",
              "  }\n",
              "\n",
              "  [theme=dark] .colab-df-quickchart {\n",
              "      --bg-color: #3B4455;\n",
              "      --fill-color: #D2E3FC;\n",
              "      --hover-bg-color: #434B5C;\n",
              "      --hover-fill-color: #FFFFFF;\n",
              "      --disabled-bg-color: #3B4455;\n",
              "      --disabled-fill-color: #666;\n",
              "  }\n",
              "\n",
              "  .colab-df-quickchart {\n",
              "    background-color: var(--bg-color);\n",
              "    border: none;\n",
              "    border-radius: 50%;\n",
              "    cursor: pointer;\n",
              "    display: none;\n",
              "    fill: var(--fill-color);\n",
              "    height: 32px;\n",
              "    padding: 0;\n",
              "    width: 32px;\n",
              "  }\n",
              "\n",
              "  .colab-df-quickchart:hover {\n",
              "    background-color: var(--hover-bg-color);\n",
              "    box-shadow: 0 1px 2px rgba(60, 64, 67, 0.3), 0 1px 3px 1px rgba(60, 64, 67, 0.15);\n",
              "    fill: var(--button-hover-fill-color);\n",
              "  }\n",
              "\n",
              "  .colab-df-quickchart-complete:disabled,\n",
              "  .colab-df-quickchart-complete:disabled:hover {\n",
              "    background-color: var(--disabled-bg-color);\n",
              "    fill: var(--disabled-fill-color);\n",
              "    box-shadow: none;\n",
              "  }\n",
              "\n",
              "  .colab-df-spinner {\n",
              "    border: 2px solid var(--fill-color);\n",
              "    border-color: transparent;\n",
              "    border-bottom-color: var(--fill-color);\n",
              "    animation:\n",
              "      spin 1s steps(1) infinite;\n",
              "  }\n",
              "\n",
              "  @keyframes spin {\n",
              "    0% {\n",
              "      border-color: transparent;\n",
              "      border-bottom-color: var(--fill-color);\n",
              "      border-left-color: var(--fill-color);\n",
              "    }\n",
              "    20% {\n",
              "      border-color: transparent;\n",
              "      border-left-color: var(--fill-color);\n",
              "      border-top-color: var(--fill-color);\n",
              "    }\n",
              "    30% {\n",
              "      border-color: transparent;\n",
              "      border-left-color: var(--fill-color);\n",
              "      border-top-color: var(--fill-color);\n",
              "      border-right-color: var(--fill-color);\n",
              "    }\n",
              "    40% {\n",
              "      border-color: transparent;\n",
              "      border-right-color: var(--fill-color);\n",
              "      border-top-color: var(--fill-color);\n",
              "    }\n",
              "    60% {\n",
              "      border-color: transparent;\n",
              "      border-right-color: var(--fill-color);\n",
              "    }\n",
              "    80% {\n",
              "      border-color: transparent;\n",
              "      border-right-color: var(--fill-color);\n",
              "      border-bottom-color: var(--fill-color);\n",
              "    }\n",
              "    90% {\n",
              "      border-color: transparent;\n",
              "      border-bottom-color: var(--fill-color);\n",
              "    }\n",
              "  }\n",
              "</style>\n",
              "\n",
              "  <script>\n",
              "    async function quickchart(key) {\n",
              "      const quickchartButtonEl =\n",
              "        document.querySelector('#' + key + ' button');\n",
              "      quickchartButtonEl.disabled = true;  // To prevent multiple clicks.\n",
              "      quickchartButtonEl.classList.add('colab-df-spinner');\n",
              "      try {\n",
              "        const charts = await google.colab.kernel.invokeFunction(\n",
              "            'suggestCharts', [key], {});\n",
              "      } catch (error) {\n",
              "        console.error('Error during call to suggestCharts:', error);\n",
              "      }\n",
              "      quickchartButtonEl.classList.remove('colab-df-spinner');\n",
              "      quickchartButtonEl.classList.add('colab-df-quickchart-complete');\n",
              "    }\n",
              "    (() => {\n",
              "      let quickchartButtonEl =\n",
              "        document.querySelector('#df-2faf5a08-6ae9-4ec7-8003-c0b66ec79b19 button');\n",
              "      quickchartButtonEl.style.display =\n",
              "        google.colab.kernel.accessAllowed ? 'block' : 'none';\n",
              "    })();\n",
              "  </script>\n",
              "</div>\n",
              "    </div>\n",
              "  </div>\n"
            ],
            "application/vnd.google.colaboratory.intrinsic+json": {
              "type": "dataframe",
              "summary": "{\n  \"name\": \"                  ShuffleSplit(n_splits=5, random_state = 42))\",\n  \"rows\": 5,\n  \"fields\": [\n    {\n      \"column\": \"fit_time\",\n      \"properties\": {\n        \"dtype\": \"number\",\n        \"std\": 0.7313009318962757,\n        \"min\": 6.269629716873169,\n        \"max\": 8.125253438949585,\n        \"num_unique_values\": 5,\n        \"samples\": [\n          6.758857727050781,\n          6.269629716873169,\n          6.4311182498931885\n        ],\n        \"semantic_type\": \"\",\n        \"description\": \"\"\n      }\n    },\n    {\n      \"column\": \"score_time\",\n      \"properties\": {\n        \"dtype\": \"number\",\n        \"std\": 0.009370616054657709,\n        \"min\": 0.04463386535644531,\n        \"max\": 0.0687410831451416,\n        \"num_unique_values\": 5,\n        \"samples\": [\n          0.0687410831451416,\n          0.0480351448059082,\n          0.04463386535644531\n        ],\n        \"semantic_type\": \"\",\n        \"description\": \"\"\n      }\n    },\n    {\n      \"column\": \"test_R2\",\n      \"properties\": {\n        \"dtype\": \"number\",\n        \"std\": 0.010363620511195222,\n        \"min\": 0.8485450650923363,\n        \"max\": 0.8731684767577566,\n        \"num_unique_values\": 5,\n        \"samples\": [\n          0.8634099465690228,\n          0.8485450650923363,\n          0.8579919500283041\n        ],\n        \"semantic_type\": \"\",\n        \"description\": \"\"\n      }\n    },\n    {\n      \"column\": \"test_-MSE\",\n      \"properties\": {\n        \"dtype\": \"number\",\n        \"std\": 685447.5760797479,\n        \"min\": -8869893.195140753,\n        \"max\": -7543679.423823429,\n        \"num_unique_values\": 5,\n        \"samples\": [\n          -8831412.882834185,\n          -8869893.195140753,\n          -8718225.281193517\n        ],\n        \"semantic_type\": \"\",\n        \"description\": \"\"\n      }\n    },\n    {\n      \"column\": \"test_-MAE\",\n      \"properties\": {\n        \"dtype\": \"number\",\n        \"std\": 16.620113776659245,\n        \"min\": -1705.7854275950358,\n        \"max\": -1668.1465856240047,\n        \"num_unique_values\": 5,\n        \"samples\": [\n          -1703.464447726568,\n          -1668.1465856240047,\n          -1676.0529089470747\n        ],\n        \"semantic_type\": \"\",\n        \"description\": \"\"\n      }\n    },\n    {\n      \"column\": \"test_-Max\",\n      \"properties\": {\n        \"dtype\": \"number\",\n        \"std\": 9874.163338947767,\n        \"min\": -42604.457755252864,\n        \"max\": -21228.799086382744,\n        \"num_unique_values\": 5,\n        \"samples\": [\n          -36620.627868155,\n          -42604.457755252864,\n          -39554.190118276136\n        ],\n        \"semantic_type\": \"\",\n        \"description\": \"\"\n      }\n    }\n  ]\n}"
            }
          },
          "metadata": {}
        },
        {
          "output_type": "stream",
          "name": "stdout",
          "text": [
            "\n",
            "\n",
            "test_R2      8.631428e-01\n",
            "test_-MSE   -8.307655e+06\n",
            "test_-MAE   -1.687554e+03\n",
            "test_-Max   -3.256116e+04\n",
            "dtype: float64\n"
          ]
        }
      ]
    },
    {
      "cell_type": "markdown",
      "source": [
        "## Визуализация ошибок от scikit-learn"
      ],
      "metadata": {
        "id": "prNHGCfzWgGa"
      }
    },
    {
      "cell_type": "code",
      "source": [
        "PredictionErrorDisplay.from_predictions(\n",
        "    y_val,\n",
        "    model_rf.predict(X_val_prep),\n",
        "    kind=\"actual_vs_predicted\",\n",
        "    scatter_kwargs={\"alpha\": 0.5},\n",
        ");"
      ],
      "metadata": {
        "colab": {
          "base_uri": "https://localhost:8080/",
          "height": 449
        },
        "id": "PVgykHnVW7LD",
        "outputId": "0ed6aed6-f104-4255-f9bf-76c9f1767970"
      },
      "execution_count": null,
      "outputs": [
        {
          "output_type": "display_data",
          "data": {
            "text/plain": [
              "<Figure size 640x480 with 1 Axes>"
            ],
            "image/png": "[encoded data removed]"
          },
          "metadata": {}
        }
      ]
    },
    {
      "cell_type": "markdown",
      "source": [
        "Небольшие выводы\n",
        "\n",
        "* Модель случайного леса лучше всех справляется с предсказанием целевой переменной (метрика r2 на кросс-валидации `0.86` против `0.65` у линейной регрессии, `0.74` у ближайших соседей и `0.75` у простых деревьев решений)\n",
        "\n",
        "* Значимость признаков в целом повторяет результаты на одиночных деревьях: год и модель так и остались самыми значимыми, подросла значимость объема двигателя, значимость остальных признаков гораздо ниже\n",
        "\n"
      ],
      "metadata": {
        "id": "C1VOH5cJLbmn"
      }
    },
    {
      "cell_type": "markdown",
      "metadata": {
        "id": "29JVO5Vz5UT6"
      },
      "source": [
        "## Поиск Лучших Гиперпараметров по Сетке Параметров"
      ]
    },
    {
      "cell_type": "code",
      "metadata": {
        "id": "23Pw_3_W5za9"
      },
      "source": [
        "from sklearn.model_selection import GridSearchCV # для поиска по сетке гиперпараметров\n",
        "\n",
        "from sklearn.metrics import make_scorer # функция для создания объекта из метрики для использования в кросс-валидации"
      ],
      "execution_count": null,
      "outputs": []
    },
    {
      "cell_type": "code",
      "source": [
        "param_grid = {\n",
        "    \"n_estimators\": np.arange(50,300,100),\n",
        "    \"max_depth\": np.arange(10,40,10),\n",
        "}"
      ],
      "metadata": {
        "id": "aYuJKIDfper2"
      },
      "execution_count": null,
      "outputs": []
    },
    {
      "cell_type": "code",
      "source": [
        "scorer = make_scorer(r2_score)"
      ],
      "metadata": {
        "id": "IwXdi9DzqcYL"
      },
      "execution_count": null,
      "outputs": []
    },
    {
      "cell_type": "code",
      "source": [
        "RF_GS = GridSearchCV(estimator = RandomForestRegressor(), # оптимизируем наш pipeline\n",
        "                       param_grid=param_grid , # что оптимизируем - берем из словарика\n",
        "                       cv=ShuffleSplit(n_splits=5, random_state=42), # указываем тип кросс-валидации\n",
        "                       scoring = scorer, # указываем метрику которую оптимизируем\n",
        "                       verbose = 3 # чтобы он всё подробно расписал, если не интересно - пишем 0\n",
        "                       )\n",
        "RF_GS"
      ],
      "metadata": {
        "id": "1w5F18BfXvJV",
        "colab": {
          "base_uri": "https://localhost:8080/",
          "height": 118
        },
        "outputId": "f1bd912f-5fcf-4d1f-cd9a-bc0a1b8cdf8b"
      },
      "execution_count": null,
      "outputs": [
        {
          "output_type": "execute_result",
          "data": {
            "text/plain": [
              "GridSearchCV(cv=ShuffleSplit(n_splits=5, random_state=42, test_size=None, train_size=None),\n",
              "             estimator=RandomForestRegressor(),\n",
              "             param_grid={'max_depth': array([10, 20, 30]),\n",
              "                         'n_estimators': array([ 50, 150, 250])},\n",
              "             scoring=make_scorer(r2_score), verbose=3)"
            ],
            "text/html": [
              "<style>#sk-container-id-2 {color: black;background-color: white;}#sk-container-id-2 pre{padding: 0;}#sk-container-id-2 div.sk-toggleable {background-color: white;}#sk-container-id-2 label.sk-toggleable__label {cursor: pointer;display: block;width: 100%;margin-bottom: 0;padding: 0.3em;box-sizing: border-box;text-align: center;}#sk-container-id-2 label.sk-toggleable__label-arrow:before {content: \"▸\";float: left;margin-right: 0.25em;color: #696969;}#sk-container-id-2 label.sk-toggleable__label-arrow:hover:before {color: black;}#sk-container-id-2 div.sk-estimator:hover label.sk-toggleable__label-arrow:before {color: black;}#sk-container-id-2 div.sk-toggleable__content {max-height: 0;max-width: 0;overflow: hidden;text-align: left;background-color: #f0f8ff;}#sk-container-id-2 div.sk-toggleable__content pre {margin: 0.2em;color: black;border-radius: 0.25em;background-color: #f0f8ff;}#sk-container-id-2 input.sk-toggleable__control:checked~div.sk-toggleable__content {max-height: 200px;max-width: 100%;overflow: auto;}#sk-container-id-2 input.sk-toggleable__control:checked~label.sk-toggleable__label-arrow:before {content: \"▾\";}#sk-container-id-2 div.sk-estimator input.sk-toggleable__control:checked~label.sk-toggleable__label {background-color: #d4ebff;}#sk-container-id-2 div.sk-label input.sk-toggleable__control:checked~label.sk-toggleable__label {background-color: #d4ebff;}#sk-container-id-2 input.sk-hidden--visually {border: 0;clip: rect(1px 1px 1px 1px);clip: rect(1px, 1px, 1px, 1px);height: 1px;margin: -1px;overflow: hidden;padding: 0;position: absolute;width: 1px;}#sk-container-id-2 div.sk-estimator {font-family: monospace;background-color: #f0f8ff;border: 1px dotted black;border-radius: 0.25em;box-sizing: border-box;margin-bottom: 0.5em;}#sk-container-id-2 div.sk-estimator:hover {background-color: #d4ebff;}#sk-container-id-2 div.sk-parallel-item::after {content: \"\";width: 100%;border-bottom: 1px solid gray;flex-grow: 1;}#sk-container-id-2 div.sk-label:hover label.sk-toggleable__label {background-color: #d4ebff;}#sk-container-id-2 div.sk-serial::before {content: \"\";position: absolute;border-left: 1px solid gray;box-sizing: border-box;top: 0;bottom: 0;left: 50%;z-index: 0;}#sk-container-id-2 div.sk-serial {display: flex;flex-direction: column;align-items: center;background-color: white;padding-right: 0.2em;padding-left: 0.2em;position: relative;}#sk-container-id-2 div.sk-item {position: relative;z-index: 1;}#sk-container-id-2 div.sk-parallel {display: flex;align-items: stretch;justify-content: center;background-color: white;position: relative;}#sk-container-id-2 div.sk-item::before, #sk-container-id-2 div.sk-parallel-item::before {content: \"\";position: absolute;border-left: 1px solid gray;box-sizing: border-box;top: 0;bottom: 0;left: 50%;z-index: -1;}#sk-container-id-2 div.sk-parallel-item {display: flex;flex-direction: column;z-index: 1;position: relative;background-color: white;}#sk-container-id-2 div.sk-parallel-item:first-child::after {align-self: flex-end;width: 50%;}#sk-container-id-2 div.sk-parallel-item:last-child::after {align-self: flex-start;width: 50%;}#sk-container-id-2 div.sk-parallel-item:only-child::after {width: 0;}#sk-container-id-2 div.sk-dashed-wrapped {border: 1px dashed gray;margin: 0 0.4em 0.5em 0.4em;box-sizing: border-box;padding-bottom: 0.4em;background-color: white;}#sk-container-id-2 div.sk-label label {font-family: monospace;font-weight: bold;display: inline-block;line-height: 1.2em;}#sk-container-id-2 div.sk-label-container {text-align: center;}#sk-container-id-2 div.sk-container {/* jupyter's `normalize.less` sets `[hidden] { display: none; }` but bootstrap.min.css set `[hidden] { display: none !important; }` so we also need the `!important` here to be able to override the default hidden behavior on the sphinx rendered scikit-learn.org. See: https://github.com/scikit-learn/scikit-learn/issues/21755 */display: inline-block !important;position: relative;}#sk-container-id-2 div.sk-text-repr-fallback {display: none;}</style><div id=\"sk-container-id-2\" class=\"sk-top-container\"><div class=\"sk-text-repr-fallback\"><pre>GridSearchCV(cv=ShuffleSplit(n_splits=5, random_state=42, test_size=None, train_size=None),\n",
              "             estimator=RandomForestRegressor(),\n",
              "             param_grid={&#x27;max_depth&#x27;: array([10, 20, 30]),\n",
              "                         &#x27;n_estimators&#x27;: array([ 50, 150, 250])},\n",
              "             scoring=make_scorer(r2_score), verbose=3)</pre><b>In a Jupyter environment, please rerun this cell to show the HTML representation or trust the notebook. <br />On GitHub, the HTML representation is unable to render, please try loading this page with nbviewer.org.</b></div><div class=\"sk-container\" hidden><div class=\"sk-item sk-dashed-wrapped\"><div class=\"sk-label-container\"><div class=\"sk-label sk-toggleable\"><input class=\"sk-toggleable__control sk-hidden--visually\" id=\"sk-estimator-id-2\" type=\"checkbox\" ><label for=\"sk-estimator-id-2\" class=\"sk-toggleable__label sk-toggleable__label-arrow\">GridSearchCV</label><div class=\"sk-toggleable__content\"><pre>GridSearchCV(cv=ShuffleSplit(n_splits=5, random_state=42, test_size=None, train_size=None),\n",
              "             estimator=RandomForestRegressor(),\n",
              "             param_grid={&#x27;max_depth&#x27;: array([10, 20, 30]),\n",
              "                         &#x27;n_estimators&#x27;: array([ 50, 150, 250])},\n",
              "             scoring=make_scorer(r2_score), verbose=3)</pre></div></div></div><div class=\"sk-parallel\"><div class=\"sk-parallel-item\"><div class=\"sk-item\"><div class=\"sk-label-container\"><div class=\"sk-label sk-toggleable\"><input class=\"sk-toggleable__control sk-hidden--visually\" id=\"sk-estimator-id-3\" type=\"checkbox\" ><label for=\"sk-estimator-id-3\" class=\"sk-toggleable__label sk-toggleable__label-arrow\">estimator: RandomForestRegressor</label><div class=\"sk-toggleable__content\"><pre>RandomForestRegressor()</pre></div></div></div><div class=\"sk-serial\"><div class=\"sk-item\"><div class=\"sk-estimator sk-toggleable\"><input class=\"sk-toggleable__control sk-hidden--visually\" id=\"sk-estimator-id-4\" type=\"checkbox\" ><label for=\"sk-estimator-id-4\" class=\"sk-toggleable__label sk-toggleable__label-arrow\">RandomForestRegressor</label><div class=\"sk-toggleable__content\"><pre>RandomForestRegressor()</pre></div></div></div></div></div></div></div></div></div></div>"
            ]
          },
          "metadata": {},
          "execution_count": 26
        }
      ]
    },
    {
      "cell_type": "markdown",
      "source": [
        "Стандартное обучение через метод `.fit()`\n",
        "\n",
        "В этом случае он будет тестировать для выбранного `estimator` все перечисленные комбинации гиперпараметров / аргументов из `param_grid`"
      ],
      "metadata": {
        "id": "GTXxcsRPXyNg"
      }
    },
    {
      "cell_type": "code",
      "metadata": {
        "id": "IrX1coGN5fm7",
        "colab": {
          "base_uri": "https://localhost:8080/"
        },
        "outputId": "2987aa8d-225d-4bca-a0ca-3e8208201294"
      },
      "source": [
        "RF_GS.fit(X_train_prep, y_train);"
      ],
      "execution_count": null,
      "outputs": [
        {
          "output_type": "stream",
          "name": "stdout",
          "text": [
            "Fitting 5 folds for each of 9 candidates, totalling 45 fits\n",
            "[CV 1/5] END .....max_depth=10, n_estimators=50;, score=0.874 total time=   2.4s\n",
            "[CV 2/5] END .....max_depth=10, n_estimators=50;, score=0.863 total time=   2.3s\n",
            "[CV 3/5] END .....max_depth=10, n_estimators=50;, score=0.860 total time=   1.9s\n",
            "[CV 4/5] END .....max_depth=10, n_estimators=50;, score=0.870 total time=   1.9s\n",
            "[CV 5/5] END .....max_depth=10, n_estimators=50;, score=0.849 total time=   1.9s\n",
            "[CV 1/5] END ....max_depth=10, n_estimators=150;, score=0.873 total time=   6.6s\n",
            "[CV 2/5] END ....max_depth=10, n_estimators=150;, score=0.864 total time=   5.7s\n",
            "[CV 3/5] END ....max_depth=10, n_estimators=150;, score=0.858 total time=   6.5s\n",
            "[CV 4/5] END ....max_depth=10, n_estimators=150;, score=0.873 total time=   5.7s\n",
            "[CV 5/5] END ....max_depth=10, n_estimators=150;, score=0.848 total time=   6.5s\n",
            "[CV 1/5] END ....max_depth=10, n_estimators=250;, score=0.872 total time=   9.6s\n",
            "[CV 2/5] END ....max_depth=10, n_estimators=250;, score=0.865 total time=  10.4s\n",
            "[CV 3/5] END ....max_depth=10, n_estimators=250;, score=0.859 total time=  10.4s\n",
            "[CV 4/5] END ....max_depth=10, n_estimators=250;, score=0.873 total time=  10.4s\n",
            "[CV 5/5] END ....max_depth=10, n_estimators=250;, score=0.850 total time=  10.3s\n",
            "[CV 1/5] END .....max_depth=20, n_estimators=50;, score=0.878 total time=   3.4s\n",
            "[CV 2/5] END .....max_depth=20, n_estimators=50;, score=0.867 total time=   3.4s\n",
            "[CV 3/5] END .....max_depth=20, n_estimators=50;, score=0.866 total time=   3.4s\n",
            "[CV 4/5] END .....max_depth=20, n_estimators=50;, score=0.878 total time=   4.2s\n",
            "[CV 5/5] END .....max_depth=20, n_estimators=50;, score=0.852 total time=   3.4s\n",
            "[CV 1/5] END ....max_depth=20, n_estimators=150;, score=0.882 total time=  11.0s\n",
            "[CV 2/5] END ....max_depth=20, n_estimators=150;, score=0.868 total time=  11.0s\n",
            "[CV 3/5] END ....max_depth=20, n_estimators=150;, score=0.865 total time=  11.0s\n",
            "[CV 4/5] END ....max_depth=20, n_estimators=150;, score=0.882 total time=  10.2s\n",
            "[CV 5/5] END ....max_depth=20, n_estimators=150;, score=0.856 total time=  11.0s\n",
            "[CV 1/5] END ....max_depth=20, n_estimators=250;, score=0.881 total time=  18.7s\n",
            "[CV 2/5] END ....max_depth=20, n_estimators=250;, score=0.869 total time=  17.8s\n",
            "[CV 3/5] END ....max_depth=20, n_estimators=250;, score=0.868 total time=  18.5s\n",
            "[CV 4/5] END ....max_depth=20, n_estimators=250;, score=0.879 total time=  17.9s\n",
            "[CV 5/5] END ....max_depth=20, n_estimators=250;, score=0.856 total time=  17.8s\n",
            "[CV 1/5] END .....max_depth=30, n_estimators=50;, score=0.882 total time=   4.5s\n",
            "[CV 2/5] END .....max_depth=30, n_estimators=50;, score=0.865 total time=   3.6s\n",
            "[CV 3/5] END .....max_depth=30, n_estimators=50;, score=0.862 total time=   3.6s\n",
            "[CV 4/5] END .....max_depth=30, n_estimators=50;, score=0.872 total time=   4.5s\n",
            "[CV 5/5] END .....max_depth=30, n_estimators=50;, score=0.854 total time=   3.6s\n",
            "[CV 1/5] END ....max_depth=30, n_estimators=150;, score=0.882 total time=  11.7s\n",
            "[CV 2/5] END ....max_depth=30, n_estimators=150;, score=0.869 total time=  11.6s\n",
            "[CV 3/5] END ....max_depth=30, n_estimators=150;, score=0.866 total time=  11.6s\n",
            "[CV 4/5] END ....max_depth=30, n_estimators=150;, score=0.878 total time=  11.6s\n",
            "[CV 5/5] END ....max_depth=30, n_estimators=150;, score=0.854 total time=  11.0s\n",
            "[CV 1/5] END ....max_depth=30, n_estimators=250;, score=0.882 total time=  19.4s\n",
            "[CV 2/5] END ....max_depth=30, n_estimators=250;, score=0.870 total time=  19.3s\n",
            "[CV 3/5] END ....max_depth=30, n_estimators=250;, score=0.867 total time=  19.1s\n",
            "[CV 4/5] END ....max_depth=30, n_estimators=250;, score=0.878 total time=  19.5s\n",
            "[CV 5/5] END ....max_depth=30, n_estimators=250;, score=0.854 total time=  18.8s\n"
          ]
        }
      ]
    },
    {
      "cell_type": "markdown",
      "source": [
        "Лучший Кандидат"
      ],
      "metadata": {
        "id": "N4_dm95HX2_q"
      }
    },
    {
      "cell_type": "code",
      "metadata": {
        "id": "kBPj2ed36Awa",
        "colab": {
          "base_uri": "https://localhost:8080/",
          "height": 75
        },
        "outputId": "c529db64-6247-449d-c0fd-c88b41bb319a"
      },
      "source": [
        "rf_best=RF_GS.best_estimator_\n",
        "rf_best"
      ],
      "execution_count": null,
      "outputs": [
        {
          "output_type": "execute_result",
          "data": {
            "text/plain": [
              "RandomForestRegressor(max_depth=20, n_estimators=150)"
            ],
            "text/html": [
              "<style>#sk-container-id-3 {color: black;background-color: white;}#sk-container-id-3 pre{padding: 0;}#sk-container-id-3 div.sk-toggleable {background-color: white;}#sk-container-id-3 label.sk-toggleable__label {cursor: pointer;display: block;width: 100%;margin-bottom: 0;padding: 0.3em;box-sizing: border-box;text-align: center;}#sk-container-id-3 label.sk-toggleable__label-arrow:before {content: \"▸\";float: left;margin-right: 0.25em;color: #696969;}#sk-container-id-3 label.sk-toggleable__label-arrow:hover:before {color: black;}#sk-container-id-3 div.sk-estimator:hover label.sk-toggleable__label-arrow:before {color: black;}#sk-container-id-3 div.sk-toggleable__content {max-height: 0;max-width: 0;overflow: hidden;text-align: left;background-color: #f0f8ff;}#sk-container-id-3 div.sk-toggleable__content pre {margin: 0.2em;color: black;border-radius: 0.25em;background-color: #f0f8ff;}#sk-container-id-3 input.sk-toggleable__control:checked~div.sk-toggleable__content {max-height: 200px;max-width: 100%;overflow: auto;}#sk-container-id-3 input.sk-toggleable__control:checked~label.sk-toggleable__label-arrow:before {content: \"▾\";}#sk-container-id-3 div.sk-estimator input.sk-toggleable__control:checked~label.sk-toggleable__label {background-color: #d4ebff;}#sk-container-id-3 div.sk-label input.sk-toggleable__control:checked~label.sk-toggleable__label {background-color: #d4ebff;}#sk-container-id-3 input.sk-hidden--visually {border: 0;clip: rect(1px 1px 1px 1px);clip: rect(1px, 1px, 1px, 1px);height: 1px;margin: -1px;overflow: hidden;padding: 0;position: absolute;width: 1px;}#sk-container-id-3 div.sk-estimator {font-family: monospace;background-color: #f0f8ff;border: 1px dotted black;border-radius: 0.25em;box-sizing: border-box;margin-bottom: 0.5em;}#sk-container-id-3 div.sk-estimator:hover {background-color: #d4ebff;}#sk-container-id-3 div.sk-parallel-item::after {content: \"\";width: 100%;border-bottom: 1px solid gray;flex-grow: 1;}#sk-container-id-3 div.sk-label:hover label.sk-toggleable__label {background-color: #d4ebff;}#sk-container-id-3 div.sk-serial::before {content: \"\";position: absolute;border-left: 1px solid gray;box-sizing: border-box;top: 0;bottom: 0;left: 50%;z-index: 0;}#sk-container-id-3 div.sk-serial {display: flex;flex-direction: column;align-items: center;background-color: white;padding-right: 0.2em;padding-left: 0.2em;position: relative;}#sk-container-id-3 div.sk-item {position: relative;z-index: 1;}#sk-container-id-3 div.sk-parallel {display: flex;align-items: stretch;justify-content: center;background-color: white;position: relative;}#sk-container-id-3 div.sk-item::before, #sk-container-id-3 div.sk-parallel-item::before {content: \"\";position: absolute;border-left: 1px solid gray;box-sizing: border-box;top: 0;bottom: 0;left: 50%;z-index: -1;}#sk-container-id-3 div.sk-parallel-item {display: flex;flex-direction: column;z-index: 1;position: relative;background-color: white;}#sk-container-id-3 div.sk-parallel-item:first-child::after {align-self: flex-end;width: 50%;}#sk-container-id-3 div.sk-parallel-item:last-child::after {align-self: flex-start;width: 50%;}#sk-container-id-3 div.sk-parallel-item:only-child::after {width: 0;}#sk-container-id-3 div.sk-dashed-wrapped {border: 1px dashed gray;margin: 0 0.4em 0.5em 0.4em;box-sizing: border-box;padding-bottom: 0.4em;background-color: white;}#sk-container-id-3 div.sk-label label {font-family: monospace;font-weight: bold;display: inline-block;line-height: 1.2em;}#sk-container-id-3 div.sk-label-container {text-align: center;}#sk-container-id-3 div.sk-container {/* jupyter's `normalize.less` sets `[hidden] { display: none; }` but bootstrap.min.css set `[hidden] { display: none !important; }` so we also need the `!important` here to be able to override the default hidden behavior on the sphinx rendered scikit-learn.org. See: https://github.com/scikit-learn/scikit-learn/issues/21755 */display: inline-block !important;position: relative;}#sk-container-id-3 div.sk-text-repr-fallback {display: none;}</style><div id=\"sk-container-id-3\" class=\"sk-top-container\"><div class=\"sk-text-repr-fallback\"><pre>RandomForestRegressor(max_depth=20, n_estimators=150)</pre><b>In a Jupyter environment, please rerun this cell to show the HTML representation or trust the notebook. <br />On GitHub, the HTML representation is unable to render, please try loading this page with nbviewer.org.</b></div><div class=\"sk-container\" hidden><div class=\"sk-item\"><div class=\"sk-estimator sk-toggleable\"><input class=\"sk-toggleable__control sk-hidden--visually\" id=\"sk-estimator-id-5\" type=\"checkbox\" checked><label for=\"sk-estimator-id-5\" class=\"sk-toggleable__label sk-toggleable__label-arrow\">RandomForestRegressor</label><div class=\"sk-toggleable__content\"><pre>RandomForestRegressor(max_depth=20, n_estimators=150)</pre></div></div></div></div></div>"
            ]
          },
          "metadata": {},
          "execution_count": 34
        }
      ]
    },
    {
      "cell_type": "code",
      "source": [
        "rf_best.fit(X_train_prep, y_train);"
      ],
      "metadata": {
        "id": "g2n1C0jIrSwv"
      },
      "execution_count": null,
      "outputs": []
    },
    {
      "cell_type": "code",
      "source": [
        "print(f\"r2 на тренировочной выборке: {calculate_metric(rf_best, X_train_prep, y_train):.4f}\")\n",
        "print(f\"r2 на валидационной выборке: {calculate_metric(rf_best, X_val_prep, y_val):.4f}\")\n",
        "\n",
        "print(f\"mse на тренировочной выборке: {calculate_metric(rf_best, X_train_prep, y_train, mse):.4f}\")\n",
        "print(f\"mse на валидационной выборке: {calculate_metric(rf_best, X_val_prep, y_val, mse):.4f}\")"
      ],
      "metadata": {
        "colab": {
          "base_uri": "https://localhost:8080/"
        },
        "id": "sPDlJCwjrOTe",
        "outputId": "80218d21-6820-4d07-e387-5668c334940e"
      },
      "execution_count": null,
      "outputs": [
        {
          "output_type": "stream",
          "name": "stdout",
          "text": [
            "r2 на тренировочной выборке: 0.9788\n",
            "r2 на валидационной выборке: 0.8662\n",
            "mse на тренировочной выборке: 1288986.7092\n",
            "mse на валидационной выборке: 8425927.0553\n"
          ]
        }
      ]
    },
    {
      "cell_type": "markdown",
      "source": [
        "### Проанализируем результат\n",
        "\n",
        "На уровне гиперпараметров"
      ],
      "metadata": {
        "id": "IMIuyD1brd0c"
      }
    },
    {
      "cell_type": "code",
      "source": [
        "DF_rf = pd.DataFrame(RF_GS.cv_results_)\n",
        "DF_rf.columns"
      ],
      "metadata": {
        "colab": {
          "base_uri": "https://localhost:8080/"
        },
        "id": "hjujjW_KrfRk",
        "outputId": "ded8ffa4-c307-4c3d-a67d-37fd27e6eafb"
      },
      "execution_count": null,
      "outputs": [
        {
          "output_type": "execute_result",
          "data": {
            "text/plain": [
              "Index(['mean_fit_time', 'std_fit_time', 'mean_score_time', 'std_score_time',\n",
              "       'param_max_depth', 'param_n_estimators', 'params', 'split0_test_score',\n",
              "       'split1_test_score', 'split2_test_score', 'split3_test_score',\n",
              "       'split4_test_score', 'mean_test_score', 'std_test_score',\n",
              "       'rank_test_score'],\n",
              "      dtype='object')"
            ]
          },
          "metadata": {},
          "execution_count": 37
        }
      ]
    },
    {
      "cell_type": "code",
      "source": [
        "DF_ = DF_rf[[ # берем только гиперпараметры,\n",
        "       'param_n_estimators',\n",
        "       'param_max_depth',\n",
        "                 'mean_test_score', # среднее значение метрики на кросс-валидации\n",
        "             'std_test_score', # разброс метрики на кросс-валидации\n",
        "             'rank_test_score', # место\n",
        "             ]]\n",
        "cm = sns.light_palette(\"orange\", as_cmap=True) # делаем подсцветку по значению. В этот раз \"50 оттенков Оранжевого\"\n",
        "hl = DF_.sort_values(by = 'rank_test_score').style.background_gradient(cmap=cm) # сортируем по убыванию места и раскрашиваем\n",
        "hl"
      ],
      "metadata": {
        "colab": {
          "base_uri": "https://localhost:8080/",
          "height": 332
        },
        "id": "IIgZIAfqrh-N",
        "outputId": "8ca8d54a-ae19-4e33-dec6-6d1a1955d96d"
      },
      "execution_count": null,
      "outputs": [
        {
          "output_type": "execute_result",
          "data": {
            "text/plain": [
              "<pandas.io.formats.style.Styler at 0x78bb8d5051e0>"
            ],
            "text/html": [
              "<style type=\"text/css\">\n",
              "#T_5d1bd_row0_col2, #T_5d1bd_row0_col3, #T_5d1bd_row1_col2, #T_5d1bd_row8_col4 {\n",
              "  background-color: #ffa500;\n",
              "  color: #000000;\n",
              "}\n",
              "#T_5d1bd_row0_col4, #T_5d1bd_row6_col3, #T_5d1bd_row7_col2, #T_5d1bd_row8_col2 {\n",
              "  background-color: #f3f0ee;\n",
              "  color: #000000;\n",
              "}\n",
              "#T_5d1bd_row1_col3 {\n",
              "  background-color: #f6daa8;\n",
              "  color: #000000;\n",
              "}\n",
              "#T_5d1bd_row1_col4 {\n",
              "  background-color: #f4e7d1;\n",
              "  color: #000000;\n",
              "}\n",
              "#T_5d1bd_row2_col2 {\n",
              "  background-color: #feab12;\n",
              "  color: #000000;\n",
              "}\n",
              "#T_5d1bd_row2_col3 {\n",
              "  background-color: #fdb430;\n",
              "  color: #000000;\n",
              "}\n",
              "#T_5d1bd_row2_col4 {\n",
              "  background-color: #f6ddb3;\n",
              "  color: #000000;\n",
              "}\n",
              "#T_5d1bd_row3_col2 {\n",
              "  background-color: #fead19;\n",
              "  color: #000000;\n",
              "}\n",
              "#T_5d1bd_row3_col3 {\n",
              "  background-color: #fcbb44;\n",
              "  color: #000000;\n",
              "}\n",
              "#T_5d1bd_row3_col4 {\n",
              "  background-color: #f7d495;\n",
              "  color: #000000;\n",
              "}\n",
              "#T_5d1bd_row4_col2 {\n",
              "  background-color: #fbbc48;\n",
              "  color: #000000;\n",
              "}\n",
              "#T_5d1bd_row4_col3 {\n",
              "  background-color: #fcb73a;\n",
              "  color: #000000;\n",
              "}\n",
              "#T_5d1bd_row4_col4 {\n",
              "  background-color: #f9ca77;\n",
              "  color: #000000;\n",
              "}\n",
              "#T_5d1bd_row5_col2 {\n",
              "  background-color: #f9c870;\n",
              "  color: #000000;\n",
              "}\n",
              "#T_5d1bd_row5_col3 {\n",
              "  background-color: #f9cb78;\n",
              "  color: #000000;\n",
              "}\n",
              "#T_5d1bd_row5_col4 {\n",
              "  background-color: #fac159;\n",
              "  color: #000000;\n",
              "}\n",
              "#T_5d1bd_row6_col2 {\n",
              "  background-color: #f4e8d6;\n",
              "  color: #000000;\n",
              "}\n",
              "#T_5d1bd_row6_col4 {\n",
              "  background-color: #fcb83b;\n",
              "  color: #000000;\n",
              "}\n",
              "#T_5d1bd_row7_col3 {\n",
              "  background-color: #f5e4c7;\n",
              "  color: #000000;\n",
              "}\n",
              "#T_5d1bd_row7_col4 {\n",
              "  background-color: #feae1d;\n",
              "  color: #000000;\n",
              "}\n",
              "#T_5d1bd_row8_col3 {\n",
              "  background-color: #fdb32b;\n",
              "  color: #000000;\n",
              "}\n",
              "</style>\n",
              "<table id=\"T_5d1bd\" class=\"dataframe\">\n",
              "  <thead>\n",
              "    <tr>\n",
              "      <th class=\"blank level0\" >&nbsp;</th>\n",
              "      <th id=\"T_5d1bd_level0_col0\" class=\"col_heading level0 col0\" >param_n_estimators</th>\n",
              "      <th id=\"T_5d1bd_level0_col1\" class=\"col_heading level0 col1\" >param_max_depth</th>\n",
              "      <th id=\"T_5d1bd_level0_col2\" class=\"col_heading level0 col2\" >mean_test_score</th>\n",
              "      <th id=\"T_5d1bd_level0_col3\" class=\"col_heading level0 col3\" >std_test_score</th>\n",
              "      <th id=\"T_5d1bd_level0_col4\" class=\"col_heading level0 col4\" >rank_test_score</th>\n",
              "    </tr>\n",
              "  </thead>\n",
              "  <tbody>\n",
              "    <tr>\n",
              "      <th id=\"T_5d1bd_level0_row0\" class=\"row_heading level0 row0\" >4</th>\n",
              "      <td id=\"T_5d1bd_row0_col0\" class=\"data row0 col0\" >150</td>\n",
              "      <td id=\"T_5d1bd_row0_col1\" class=\"data row0 col1\" >20</td>\n",
              "      <td id=\"T_5d1bd_row0_col2\" class=\"data row0 col2\" >0.870658</td>\n",
              "      <td id=\"T_5d1bd_row0_col3\" class=\"data row0 col3\" >0.009886</td>\n",
              "      <td id=\"T_5d1bd_row0_col4\" class=\"data row0 col4\" >1</td>\n",
              "    </tr>\n",
              "    <tr>\n",
              "      <th id=\"T_5d1bd_level0_row1\" class=\"row_heading level0 row1\" >5</th>\n",
              "      <td id=\"T_5d1bd_row1_col0\" class=\"data row1 col0\" >250</td>\n",
              "      <td id=\"T_5d1bd_row1_col1\" class=\"data row1 col1\" >20</td>\n",
              "      <td id=\"T_5d1bd_row1_col2\" class=\"data row1 col2\" >0.870657</td>\n",
              "      <td id=\"T_5d1bd_row1_col3\" class=\"data row1 col3\" >0.008947</td>\n",
              "      <td id=\"T_5d1bd_row1_col4\" class=\"data row1 col4\" >2</td>\n",
              "    </tr>\n",
              "    <tr>\n",
              "      <th id=\"T_5d1bd_level0_row2\" class=\"row_heading level0 row2\" >8</th>\n",
              "      <td id=\"T_5d1bd_row2_col0\" class=\"data row2 col0\" >250</td>\n",
              "      <td id=\"T_5d1bd_row2_col1\" class=\"data row2 col1\" >30</td>\n",
              "      <td id=\"T_5d1bd_row2_col2\" class=\"data row2 col2\" >0.870072</td>\n",
              "      <td id=\"T_5d1bd_row2_col3\" class=\"data row2 col3\" >0.009619</td>\n",
              "      <td id=\"T_5d1bd_row2_col4\" class=\"data row2 col4\" >3</td>\n",
              "    </tr>\n",
              "    <tr>\n",
              "      <th id=\"T_5d1bd_level0_row3\" class=\"row_heading level0 row3\" >7</th>\n",
              "      <td id=\"T_5d1bd_row3_col0\" class=\"data row3 col0\" >150</td>\n",
              "      <td id=\"T_5d1bd_row3_col1\" class=\"data row3 col1\" >30</td>\n",
              "      <td id=\"T_5d1bd_row3_col2\" class=\"data row3 col2\" >0.869826</td>\n",
              "      <td id=\"T_5d1bd_row3_col3\" class=\"data row3 col3\" >0.009502</td>\n",
              "      <td id=\"T_5d1bd_row3_col4\" class=\"data row3 col4\" >4</td>\n",
              "    </tr>\n",
              "    <tr>\n",
              "      <th id=\"T_5d1bd_level0_row4\" class=\"row_heading level0 row4\" >3</th>\n",
              "      <td id=\"T_5d1bd_row4_col0\" class=\"data row4 col0\" >50</td>\n",
              "      <td id=\"T_5d1bd_row4_col1\" class=\"data row4 col1\" >20</td>\n",
              "      <td id=\"T_5d1bd_row4_col2\" class=\"data row4 col2\" >0.868336</td>\n",
              "      <td id=\"T_5d1bd_row4_col3\" class=\"data row4 col3\" >0.009560</td>\n",
              "      <td id=\"T_5d1bd_row4_col4\" class=\"data row4 col4\" >5</td>\n",
              "    </tr>\n",
              "    <tr>\n",
              "      <th id=\"T_5d1bd_level0_row5\" class=\"row_heading level0 row5\" >6</th>\n",
              "      <td id=\"T_5d1bd_row5_col0\" class=\"data row5 col0\" >50</td>\n",
              "      <td id=\"T_5d1bd_row5_col1\" class=\"data row5 col1\" >30</td>\n",
              "      <td id=\"T_5d1bd_row5_col2\" class=\"data row5 col2\" >0.867034</td>\n",
              "      <td id=\"T_5d1bd_row5_col3\" class=\"data row5 col3\" >0.009217</td>\n",
              "      <td id=\"T_5d1bd_row5_col4\" class=\"data row5 col4\" >6</td>\n",
              "    </tr>\n",
              "    <tr>\n",
              "      <th id=\"T_5d1bd_level0_row6\" class=\"row_heading level0 row6\" >2</th>\n",
              "      <td id=\"T_5d1bd_row6_col0\" class=\"data row6 col0\" >250</td>\n",
              "      <td id=\"T_5d1bd_row6_col1\" class=\"data row6 col1\" >10</td>\n",
              "      <td id=\"T_5d1bd_row6_col2\" class=\"data row6 col2\" >0.863784</td>\n",
              "      <td id=\"T_5d1bd_row6_col3\" class=\"data row6 col3\" >0.008553</td>\n",
              "      <td id=\"T_5d1bd_row6_col4\" class=\"data row6 col4\" >7</td>\n",
              "    </tr>\n",
              "    <tr>\n",
              "      <th id=\"T_5d1bd_level0_row7\" class=\"row_heading level0 row7\" >0</th>\n",
              "      <td id=\"T_5d1bd_row7_col0\" class=\"data row7 col0\" >50</td>\n",
              "      <td id=\"T_5d1bd_row7_col1\" class=\"data row7 col1\" >10</td>\n",
              "      <td id=\"T_5d1bd_row7_col2\" class=\"data row7 col2\" >0.862992</td>\n",
              "      <td id=\"T_5d1bd_row7_col3\" class=\"data row7 col3\" >0.008777</td>\n",
              "      <td id=\"T_5d1bd_row7_col4\" class=\"data row7 col4\" >8</td>\n",
              "    </tr>\n",
              "    <tr>\n",
              "      <th id=\"T_5d1bd_level0_row8\" class=\"row_heading level0 row8\" >1</th>\n",
              "      <td id=\"T_5d1bd_row8_col0\" class=\"data row8 col0\" >150</td>\n",
              "      <td id=\"T_5d1bd_row8_col1\" class=\"data row8 col1\" >10</td>\n",
              "      <td id=\"T_5d1bd_row8_col2\" class=\"data row8 col2\" >0.862985</td>\n",
              "      <td id=\"T_5d1bd_row8_col3\" class=\"data row8 col3\" >0.009645</td>\n",
              "      <td id=\"T_5d1bd_row8_col4\" class=\"data row8 col4\" >9</td>\n",
              "    </tr>\n",
              "  </tbody>\n",
              "</table>\n"
            ]
          },
          "metadata": {},
          "execution_count": 38
        }
      ]
    },
    {
      "cell_type": "markdown",
      "source": [
        "Небольшие выводы\n",
        "\n",
        "* Увеличение числа деревьев в лесе и глубины леса даёт незначительный, но прирост (метрика r2 на кросс-валидации `0.87` против `0.86`)\n"
      ],
      "metadata": {
        "id": "VbojHEjlXpIv"
      }
    }
  ]
}